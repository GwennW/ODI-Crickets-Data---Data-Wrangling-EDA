{
 "cells": [
  {
   "cell_type": "markdown",
   "metadata": {},
   "source": [
    "# Importing the usual libraries and dataset"
   ]
  },
  {
   "cell_type": "code",
   "execution_count": 371,
   "metadata": {},
   "outputs": [],
   "source": [
    "import pandas as pd\n",
    "import numpy as np\n",
    "import matplotlib.pyplot as plt \n",
    "import seaborn as sns\n",
    "%matplotlib inline"
   ]
  },
  {
   "cell_type": "code",
   "execution_count": 372,
   "metadata": {},
   "outputs": [],
   "source": [
    "df=pd.read_excel('1 - 2019 ODI Cricket Matches.xlsx')"
   ]
  },
  {
   "cell_type": "code",
   "execution_count": 373,
   "metadata": {},
   "outputs": [
    {
     "data": {
      "text/html": [
       "<div>\n",
       "<style scoped>\n",
       "    .dataframe tbody tr th:only-of-type {\n",
       "        vertical-align: middle;\n",
       "    }\n",
       "\n",
       "    .dataframe tbody tr th {\n",
       "        vertical-align: top;\n",
       "    }\n",
       "\n",
       "    .dataframe thead th {\n",
       "        text-align: right;\n",
       "    }\n",
       "</style>\n",
       "<table border=\"1\" class=\"dataframe\">\n",
       "  <thead>\n",
       "    <tr style=\"text-align: right;\">\n",
       "      <th></th>\n",
       "      <th>Team 1</th>\n",
       "      <th>Team 2</th>\n",
       "      <th>Winner</th>\n",
       "      <th>Margin</th>\n",
       "      <th>Ground</th>\n",
       "      <th>Match Date</th>\n",
       "      <th>Scorecard</th>\n",
       "    </tr>\n",
       "  </thead>\n",
       "  <tbody>\n",
       "    <tr>\n",
       "      <th>0</th>\n",
       "      <td>New Zealand</td>\n",
       "      <td>Pakistan</td>\n",
       "      <td>New Zealand</td>\n",
       "      <td>61 runs</td>\n",
       "      <td>Wellington</td>\n",
       "      <td>2018-01-06</td>\n",
       "      <td>ODI # 3946</td>\n",
       "    </tr>\n",
       "    <tr>\n",
       "      <th>1</th>\n",
       "      <td>New Zealand</td>\n",
       "      <td>Pakistan</td>\n",
       "      <td>New Zealand</td>\n",
       "      <td>8 wickets</td>\n",
       "      <td>Nelson</td>\n",
       "      <td>2018-01-09</td>\n",
       "      <td>ODI # 3947</td>\n",
       "    </tr>\n",
       "    <tr>\n",
       "      <th>2</th>\n",
       "      <td>U.A.E.</td>\n",
       "      <td>Ireland</td>\n",
       "      <td>Ireland</td>\n",
       "      <td>4 wickets</td>\n",
       "      <td>ICCA Dubai</td>\n",
       "      <td>2018-01-11</td>\n",
       "      <td>ODI # 3948</td>\n",
       "    </tr>\n",
       "    <tr>\n",
       "      <th>3</th>\n",
       "      <td>New Zealand</td>\n",
       "      <td>Pakistan</td>\n",
       "      <td>New Zealand</td>\n",
       "      <td>183 runs</td>\n",
       "      <td>Dunedin</td>\n",
       "      <td>2018-01-13</td>\n",
       "      <td>ODI # 3949</td>\n",
       "    </tr>\n",
       "    <tr>\n",
       "      <th>4</th>\n",
       "      <td>U.A.E.</td>\n",
       "      <td>Ireland</td>\n",
       "      <td>Ireland</td>\n",
       "      <td>67 runs</td>\n",
       "      <td>ICCA Dubai</td>\n",
       "      <td>2018-01-13</td>\n",
       "      <td>ODI # 3950</td>\n",
       "    </tr>\n",
       "  </tbody>\n",
       "</table>\n",
       "</div>"
      ],
      "text/plain": [
       "        Team 1    Team 2       Winner     Margin      Ground Match Date  \\\n",
       "0  New Zealand  Pakistan  New Zealand    61 runs  Wellington 2018-01-06   \n",
       "1  New Zealand  Pakistan  New Zealand  8 wickets      Nelson 2018-01-09   \n",
       "2       U.A.E.   Ireland      Ireland  4 wickets  ICCA Dubai 2018-01-11   \n",
       "3  New Zealand  Pakistan  New Zealand   183 runs     Dunedin 2018-01-13   \n",
       "4       U.A.E.   Ireland      Ireland    67 runs  ICCA Dubai 2018-01-13   \n",
       "\n",
       "    Scorecard  \n",
       "0  ODI # 3946  \n",
       "1  ODI # 3947  \n",
       "2  ODI # 3948  \n",
       "3  ODI # 3949  \n",
       "4  ODI # 3950  "
      ]
     },
     "execution_count": 373,
     "metadata": {},
     "output_type": "execute_result"
    }
   ],
   "source": [
    "df.head()"
   ]
  },
  {
   "cell_type": "markdown",
   "metadata": {},
   "source": [
    "# 1) Transform the Margin columns into two columns. One for run and one for wickets"
   ]
  },
  {
   "cell_type": "code",
   "execution_count": 374,
   "metadata": {},
   "outputs": [],
   "source": [
    "df['Margin']=df['Margin'].astype(str)"
   ]
  },
  {
   "cell_type": "code",
   "execution_count": 375,
   "metadata": {},
   "outputs": [],
   "source": [
    "#Extracting the number from the Margin columns\n",
    "\n",
    "def get_number(competition):\n",
    "    return competition.split()[0]"
   ]
  },
  {
   "cell_type": "code",
   "execution_count": 376,
   "metadata": {},
   "outputs": [],
   "source": [
    "df['Number']=df['Margin'].apply(lambda x:get_number(x))"
   ]
  },
  {
   "cell_type": "code",
   "execution_count": 377,
   "metadata": {},
   "outputs": [],
   "source": [
    "#Creating new columns based on the Margin columns\n",
    "\n",
    "df['Wickets']=np.where(df['Margin'].str.contains('wickets'),df['Number'],0)\n",
    "df['Runs']=np.where(df['Margin'].str.contains('runs'),df['Number'],0)\n"
   ]
  },
  {
   "cell_type": "code",
   "execution_count": 378,
   "metadata": {},
   "outputs": [],
   "source": [
    "df.drop('Number',axis=1,inplace=True)"
   ]
  },
  {
   "cell_type": "code",
   "execution_count": 379,
   "metadata": {},
   "outputs": [],
   "source": [
    "def get_type(margin):\n",
    "    return margin.split()[-1]"
   ]
  },
  {
   "cell_type": "code",
   "execution_count": 385,
   "metadata": {},
   "outputs": [],
   "source": [
    "df['Margin']=df['Margin'].apply(lambda x:get_type(x))"
   ]
  },
  {
   "cell_type": "code",
   "execution_count": 386,
   "metadata": {},
   "outputs": [
    {
     "data": {
      "text/html": [
       "<div>\n",
       "<style scoped>\n",
       "    .dataframe tbody tr th:only-of-type {\n",
       "        vertical-align: middle;\n",
       "    }\n",
       "\n",
       "    .dataframe tbody tr th {\n",
       "        vertical-align: top;\n",
       "    }\n",
       "\n",
       "    .dataframe thead th {\n",
       "        text-align: right;\n",
       "    }\n",
       "</style>\n",
       "<table border=\"1\" class=\"dataframe\">\n",
       "  <thead>\n",
       "    <tr style=\"text-align: right;\">\n",
       "      <th></th>\n",
       "      <th>Team 1</th>\n",
       "      <th>Team 2</th>\n",
       "      <th>Winner</th>\n",
       "      <th>Margin</th>\n",
       "      <th>Ground</th>\n",
       "      <th>Match Date</th>\n",
       "      <th>Scorecard</th>\n",
       "      <th>Wickets</th>\n",
       "      <th>Runs</th>\n",
       "    </tr>\n",
       "  </thead>\n",
       "  <tbody>\n",
       "    <tr>\n",
       "      <th>0</th>\n",
       "      <td>New Zealand</td>\n",
       "      <td>Pakistan</td>\n",
       "      <td>New Zealand</td>\n",
       "      <td>runs</td>\n",
       "      <td>Wellington</td>\n",
       "      <td>2018-01-06</td>\n",
       "      <td>ODI # 3946</td>\n",
       "      <td>0</td>\n",
       "      <td>61</td>\n",
       "    </tr>\n",
       "    <tr>\n",
       "      <th>1</th>\n",
       "      <td>New Zealand</td>\n",
       "      <td>Pakistan</td>\n",
       "      <td>New Zealand</td>\n",
       "      <td>wickets</td>\n",
       "      <td>Nelson</td>\n",
       "      <td>2018-01-09</td>\n",
       "      <td>ODI # 3947</td>\n",
       "      <td>8</td>\n",
       "      <td>0</td>\n",
       "    </tr>\n",
       "    <tr>\n",
       "      <th>2</th>\n",
       "      <td>U.A.E.</td>\n",
       "      <td>Ireland</td>\n",
       "      <td>Ireland</td>\n",
       "      <td>wickets</td>\n",
       "      <td>ICCA Dubai</td>\n",
       "      <td>2018-01-11</td>\n",
       "      <td>ODI # 3948</td>\n",
       "      <td>4</td>\n",
       "      <td>0</td>\n",
       "    </tr>\n",
       "    <tr>\n",
       "      <th>3</th>\n",
       "      <td>New Zealand</td>\n",
       "      <td>Pakistan</td>\n",
       "      <td>New Zealand</td>\n",
       "      <td>runs</td>\n",
       "      <td>Dunedin</td>\n",
       "      <td>2018-01-13</td>\n",
       "      <td>ODI # 3949</td>\n",
       "      <td>0</td>\n",
       "      <td>183</td>\n",
       "    </tr>\n",
       "    <tr>\n",
       "      <th>4</th>\n",
       "      <td>U.A.E.</td>\n",
       "      <td>Ireland</td>\n",
       "      <td>Ireland</td>\n",
       "      <td>runs</td>\n",
       "      <td>ICCA Dubai</td>\n",
       "      <td>2018-01-13</td>\n",
       "      <td>ODI # 3950</td>\n",
       "      <td>0</td>\n",
       "      <td>67</td>\n",
       "    </tr>\n",
       "    <tr>\n",
       "      <th>...</th>\n",
       "      <td>...</td>\n",
       "      <td>...</td>\n",
       "      <td>...</td>\n",
       "      <td>...</td>\n",
       "      <td>...</td>\n",
       "      <td>...</td>\n",
       "      <td>...</td>\n",
       "      <td>...</td>\n",
       "      <td>...</td>\n",
       "    </tr>\n",
       "    <tr>\n",
       "      <th>123</th>\n",
       "      <td>Australia</td>\n",
       "      <td>South Africa</td>\n",
       "      <td>South Africa</td>\n",
       "      <td>runs</td>\n",
       "      <td>Hobart</td>\n",
       "      <td>2018-11-11</td>\n",
       "      <td>ODI # 4069</td>\n",
       "      <td>0</td>\n",
       "      <td>40</td>\n",
       "    </tr>\n",
       "    <tr>\n",
       "      <th>124</th>\n",
       "      <td>New Zealand</td>\n",
       "      <td>Pakistan</td>\n",
       "      <td>no result</td>\n",
       "      <td>nan</td>\n",
       "      <td>Dubai (DSC)</td>\n",
       "      <td>2018-11-11</td>\n",
       "      <td>ODI # 4070</td>\n",
       "      <td>0</td>\n",
       "      <td>0</td>\n",
       "    </tr>\n",
       "    <tr>\n",
       "      <th>125</th>\n",
       "      <td>Bangladesh</td>\n",
       "      <td>West Indies</td>\n",
       "      <td>Bangladesh</td>\n",
       "      <td>wickets</td>\n",
       "      <td>Dhaka</td>\n",
       "      <td>2018-12-09</td>\n",
       "      <td>ODI # 4071</td>\n",
       "      <td>5</td>\n",
       "      <td>0</td>\n",
       "    </tr>\n",
       "    <tr>\n",
       "      <th>126</th>\n",
       "      <td>Bangladesh</td>\n",
       "      <td>West Indies</td>\n",
       "      <td>West Indies</td>\n",
       "      <td>wickets</td>\n",
       "      <td>Dhaka</td>\n",
       "      <td>2018-12-11</td>\n",
       "      <td>ODI # 4072</td>\n",
       "      <td>4</td>\n",
       "      <td>0</td>\n",
       "    </tr>\n",
       "    <tr>\n",
       "      <th>127</th>\n",
       "      <td>Bangladesh</td>\n",
       "      <td>West Indies</td>\n",
       "      <td>Bangladesh</td>\n",
       "      <td>wickets</td>\n",
       "      <td>Sylhet</td>\n",
       "      <td>2018-12-14</td>\n",
       "      <td>ODI # 4073</td>\n",
       "      <td>8</td>\n",
       "      <td>0</td>\n",
       "    </tr>\n",
       "  </tbody>\n",
       "</table>\n",
       "<p>128 rows × 9 columns</p>\n",
       "</div>"
      ],
      "text/plain": [
       "          Team 1        Team 2        Winner   Margin       Ground Match Date  \\\n",
       "0    New Zealand      Pakistan   New Zealand     runs   Wellington 2018-01-06   \n",
       "1    New Zealand      Pakistan   New Zealand  wickets       Nelson 2018-01-09   \n",
       "2         U.A.E.       Ireland       Ireland  wickets   ICCA Dubai 2018-01-11   \n",
       "3    New Zealand      Pakistan   New Zealand     runs      Dunedin 2018-01-13   \n",
       "4         U.A.E.       Ireland       Ireland     runs   ICCA Dubai 2018-01-13   \n",
       "..           ...           ...           ...      ...          ...        ...   \n",
       "123    Australia  South Africa  South Africa     runs       Hobart 2018-11-11   \n",
       "124  New Zealand      Pakistan     no result      nan  Dubai (DSC) 2018-11-11   \n",
       "125   Bangladesh   West Indies    Bangladesh  wickets        Dhaka 2018-12-09   \n",
       "126   Bangladesh   West Indies   West Indies  wickets        Dhaka 2018-12-11   \n",
       "127   Bangladesh   West Indies    Bangladesh  wickets       Sylhet 2018-12-14   \n",
       "\n",
       "      Scorecard Wickets Runs  \n",
       "0    ODI # 3946       0   61  \n",
       "1    ODI # 3947       8    0  \n",
       "2    ODI # 3948       4    0  \n",
       "3    ODI # 3949       0  183  \n",
       "4    ODI # 3950       0   67  \n",
       "..          ...     ...  ...  \n",
       "123  ODI # 4069       0   40  \n",
       "124  ODI # 4070       0    0  \n",
       "125  ODI # 4071       5    0  \n",
       "126  ODI # 4072       4    0  \n",
       "127  ODI # 4073       8    0  \n",
       "\n",
       "[128 rows x 9 columns]"
      ]
     },
     "execution_count": 386,
     "metadata": {},
     "output_type": "execute_result"
    }
   ],
   "source": [
    "df"
   ]
  },
  {
   "cell_type": "markdown",
   "metadata": {},
   "source": [
    "# 2) Which countries has played the most ODIs in 2018"
   ]
  },
  {
   "cell_type": "code",
   "execution_count": 388,
   "metadata": {},
   "outputs": [],
   "source": [
    "df['Match Date']=pd.to_datetime(df['Match Date'])"
   ]
  },
  {
   "cell_type": "code",
   "execution_count": 389,
   "metadata": {},
   "outputs": [
    {
     "data": {
      "text/plain": [
       "Team 1\n",
       "Afghanistan     16\n",
       "Bangladesh      15\n",
       "New Zealand     13\n",
       "Sri Lanka       12\n",
       "Zimbabwe        11\n",
       "South Africa     9\n",
       "Ireland          9\n",
       "England          8\n",
       "Australia        8\n",
       "India            7\n",
       "U.A.E.           5\n",
       "Hong Kong        4\n",
       "Scotland         3\n",
       "West Indies      3\n",
       "P.N.G.           2\n",
       "Netherlands      2\n",
       "Nepal            1\n",
       "Name: Scorecard, dtype: int64"
      ]
     },
     "execution_count": 389,
     "metadata": {},
     "output_type": "execute_result"
    }
   ],
   "source": [
    "df.groupby('Team 1').count()['Scorecard'].sort_values(ascending=False)"
   ]
  },
  {
   "cell_type": "code",
   "execution_count": 390,
   "metadata": {},
   "outputs": [
    {
     "data": {
      "text/plain": [
       "Team 2\n",
       "Pakistan        18\n",
       "England         16\n",
       "Zimbabwe        15\n",
       "West Indies     15\n",
       "India           13\n",
       "South Africa     8\n",
       "Scotland         8\n",
       "U.A.E.           6\n",
       "Sri Lanka        5\n",
       "Bangladesh       5\n",
       "Australia        5\n",
       "Ireland          4\n",
       "Afghanistan      4\n",
       "P.N.G.           2\n",
       "Nepal            2\n",
       "Hong Kong        2\n",
       "Name: Scorecard, dtype: int64"
      ]
     },
     "execution_count": 390,
     "metadata": {},
     "output_type": "execute_result"
    }
   ],
   "source": [
    "df.groupby('Team 2').count()['Scorecard'].sort_values(ascending=False)"
   ]
  },
  {
   "cell_type": "markdown",
   "metadata": {},
   "source": [
    "Pakistan was the team that played the most games"
   ]
  },
  {
   "cell_type": "markdown",
   "metadata": {},
   "source": [
    "# 3) Top 3 countries that won the most ODIs"
   ]
  },
  {
   "cell_type": "code",
   "execution_count": 391,
   "metadata": {},
   "outputs": [
    {
     "data": {
      "text/plain": [
       "Winner\n",
       "England         17\n",
       "India           14\n",
       "Bangladesh      13\n",
       "Afghanistan     12\n",
       "South Africa     9\n",
       "Pakistan         8\n",
       "Ireland          8\n",
       "New Zealand      8\n",
       "West Indies      8\n",
       "Sri Lanka        6\n",
       "Scotland         5\n",
       "Zimbabwe         5\n",
       "U.A.E.           4\n",
       "tied             3\n",
       "no result        2\n",
       "Australia        2\n",
       "P.N.G.           1\n",
       "Netherlands      1\n",
       "Nepal            1\n",
       "Hong Kong        1\n",
       "Name: Scorecard, dtype: int64"
      ]
     },
     "execution_count": 391,
     "metadata": {},
     "output_type": "execute_result"
    }
   ],
   "source": [
    "df.groupby('Winner').count()['Scorecard'].sort_values(ascending=False)"
   ]
  },
  {
   "cell_type": "markdown",
   "metadata": {},
   "source": [
    "England, India and Bangladesh were the teams that won the most games"
   ]
  },
  {
   "cell_type": "markdown",
   "metadata": {},
   "source": [
    "# 4) Based on the ground, map the country. Take the list from Google"
   ]
  },
  {
   "cell_type": "code",
   "execution_count": 392,
   "metadata": {},
   "outputs": [
    {
     "data": {
      "text/plain": [
       "array(['New Zealand', 'U.A.E.', 'Australia', 'Bangladesh', 'Ireland',\n",
       "       'Sri Lanka', 'South Africa', 'Afghanistan', 'P.N.G.', 'Hong Kong',\n",
       "       'Zimbabwe', 'Scotland', 'England', 'West Indies', 'Netherlands',\n",
       "       'Nepal', 'India'], dtype=object)"
      ]
     },
     "execution_count": 392,
     "metadata": {},
     "output_type": "execute_result"
    }
   ],
   "source": [
    "df['Team 1'].unique()"
   ]
  },
  {
   "cell_type": "code",
   "execution_count": 393,
   "metadata": {},
   "outputs": [],
   "source": [
    "countries_to_map={'Wellington':'New Zealand',\n",
    "'Nelson':'New Zealand', \n",
    "'ICCA Dubai':'U.A.E.',\n",
    "'Dunedin':'New Zealand', \n",
    "'Melbourne':'Australia',\n",
    "'Dhaka':'Bangladesh', \n",
    "'Hamilton':'New Zealand', \n",
    "'Brisbane':'Australia', \n",
    "'Sydney':'Australia', \n",
    "'Adelaide':'Australia', \n",
    "'Perth':'Australia',\n",
    "'Durban':'South Africa',\n",
    "'Centurion':'South Africa', \n",
    "'Cape Town':'South Africa', \n",
    "'Sharjah':'U.A.E.', \n",
    "'Johannesburg':'South Africa',\n",
    "'Port Elizabeth' :'England',\n",
    "'Mount Maunganui' : 'New Zealand',\n",
    "'Bulawayo' :'Zimbabwe',\n",
    "'Harare' :'Zimbabwe',\n",
    "'Christchurch' :'New Zealand',\n",
    "'Edinburgh' :'Scotland',\n",
    "'The Oval' :'England',\n",
    "'Cardiff' :'England',\n",
    "'Nottingham' :'England',\n",
    "'Chester-le-Street' : 'England',\n",
    "'Manchester' : 'England',\n",
    "\"Lord's\" :'England',\n",
    "'Leeds' :'England',\n",
    "'Providence' :'Guyana',\n",
    "'Basseterre' :'St. Kitts and Nevis',\n",
    "'Dambulla' : 'Sri-Lanka',\n",
    "'Amstelveen' :'Netherlands',\n",
    "'Pallekele' :'Sri Lanka',\n",
    "'Colombo (RPS)' :'Sri Lanka',\n",
    "'Belfast' :'Northern-Ireland',\n",
    "'Kuala Lumpur' :'Malysia',\n",
    "'Dubai (DSC)' :'U.A.E.',\n",
    "'Abu Dhabi' :'U.A.E.',\n",
    "'Kimberley' :'South Africa',\n",
    "'Bloemfontein' :'South Africa',\n",
    "'Paarl' :'South Africa',\n",
    "'Guwahati' :'India',\n",
    "'Visakhapatnam' : 'India',\n",
    "'Chattogram':'Bangladesh',\n",
    "'Pune':'India',\n",
    "'Mumbai (BS)':'India',\n",
    "'Thiruvananthapuram':'India',\n",
    "'Hobart':'Australia',\n",
    "'Sylhet':'Bangladesh'}"
   ]
  },
  {
   "cell_type": "code",
   "execution_count": 394,
   "metadata": {},
   "outputs": [],
   "source": [
    "df['Home Ground']=df['Ground'].map(countries_to_map)"
   ]
  },
  {
   "cell_type": "markdown",
   "metadata": {},
   "source": [
    "# 5) Which countries played the most at home?"
   ]
  },
  {
   "cell_type": "code",
   "execution_count": 395,
   "metadata": {},
   "outputs": [],
   "source": [
    "df.at[30,'Home Ground']='South Africa'"
   ]
  },
  {
   "cell_type": "code",
   "execution_count": 396,
   "metadata": {},
   "outputs": [],
   "source": [
    "df['Home Team']=np.where(df['Team 1']==df['Home Ground'],df['Team 1'],\n",
    "        np.where(df['Team 2']==df['Home Ground'],df['Team 2'],'Other'))"
   ]
  },
  {
   "cell_type": "code",
   "execution_count": 397,
   "metadata": {},
   "outputs": [
    {
     "data": {
      "text/plain": [
       "Home Team\n",
       "Other           53\n",
       "Zimbabwe        11\n",
       "Bangladesh      11\n",
       "New Zealand     10\n",
       "South Africa     9\n",
       "England          8\n",
       "Australia        8\n",
       "Sri Lanka        6\n",
       "India            5\n",
       "U.A.E.           4\n",
       "Netherlands      2\n",
       "Scotland         1\n",
       "Name: Scorecard, dtype: int64"
      ]
     },
     "execution_count": 397,
     "metadata": {},
     "output_type": "execute_result"
    }
   ],
   "source": [
    "df.groupby('Home Team').count()['Scorecard'].sort_values(ascending=False)"
   ]
  },
  {
   "cell_type": "markdown",
   "metadata": {},
   "source": [
    "Zimbabwe was the team that played the most at home"
   ]
  },
  {
   "cell_type": "markdown",
   "metadata": {},
   "source": [
    "# 6) How was the performance of Sri-Lanka?"
   ]
  },
  {
   "cell_type": "markdown",
   "metadata": {},
   "source": [
    "Filtering games in which Sri-Lanka was involved either as Team 1 or Team 2 "
   ]
  },
  {
   "cell_type": "code",
   "execution_count": 398,
   "metadata": {},
   "outputs": [],
   "source": [
    "sri_lanka_games=df.loc[(df['Team 1']=='Sri Lanka') |  (df['Team 2']=='Sri Lanka')]"
   ]
  },
  {
   "cell_type": "code",
   "execution_count": 399,
   "metadata": {},
   "outputs": [
    {
     "data": {
      "text/html": [
       "<div>\n",
       "<style scoped>\n",
       "    .dataframe tbody tr th:only-of-type {\n",
       "        vertical-align: middle;\n",
       "    }\n",
       "\n",
       "    .dataframe tbody tr th {\n",
       "        vertical-align: top;\n",
       "    }\n",
       "\n",
       "    .dataframe thead th {\n",
       "        text-align: right;\n",
       "    }\n",
       "</style>\n",
       "<table border=\"1\" class=\"dataframe\">\n",
       "  <thead>\n",
       "    <tr style=\"text-align: right;\">\n",
       "      <th></th>\n",
       "      <th>Team 1</th>\n",
       "      <th>Team 2</th>\n",
       "      <th>Winner</th>\n",
       "      <th>Margin</th>\n",
       "      <th>Ground</th>\n",
       "      <th>Match Date</th>\n",
       "      <th>Scorecard</th>\n",
       "      <th>Wickets</th>\n",
       "      <th>Runs</th>\n",
       "      <th>Home Ground</th>\n",
       "      <th>Home Team</th>\n",
       "    </tr>\n",
       "  </thead>\n",
       "  <tbody>\n",
       "    <tr>\n",
       "      <th>9</th>\n",
       "      <td>Sri Lanka</td>\n",
       "      <td>Zimbabwe</td>\n",
       "      <td>Zimbabwe</td>\n",
       "      <td>runs</td>\n",
       "      <td>Dhaka</td>\n",
       "      <td>2018-01-17</td>\n",
       "      <td>ODI # 3955</td>\n",
       "      <td>0</td>\n",
       "      <td>12</td>\n",
       "      <td>Bangladesh</td>\n",
       "      <td>Other</td>\n",
       "    </tr>\n",
       "    <tr>\n",
       "      <th>13</th>\n",
       "      <td>Bangladesh</td>\n",
       "      <td>Sri Lanka</td>\n",
       "      <td>Bangladesh</td>\n",
       "      <td>runs</td>\n",
       "      <td>Dhaka</td>\n",
       "      <td>2018-01-19</td>\n",
       "      <td>ODI # 3959</td>\n",
       "      <td>0</td>\n",
       "      <td>163</td>\n",
       "      <td>Bangladesh</td>\n",
       "      <td>Bangladesh</td>\n",
       "    </tr>\n",
       "    <tr>\n",
       "      <th>16</th>\n",
       "      <td>Sri Lanka</td>\n",
       "      <td>Zimbabwe</td>\n",
       "      <td>Sri Lanka</td>\n",
       "      <td>wickets</td>\n",
       "      <td>Dhaka</td>\n",
       "      <td>2018-01-21</td>\n",
       "      <td>ODI # 3962</td>\n",
       "      <td>5</td>\n",
       "      <td>0</td>\n",
       "      <td>Bangladesh</td>\n",
       "      <td>Other</td>\n",
       "    </tr>\n",
       "    <tr>\n",
       "      <th>19</th>\n",
       "      <td>Bangladesh</td>\n",
       "      <td>Sri Lanka</td>\n",
       "      <td>Sri Lanka</td>\n",
       "      <td>wickets</td>\n",
       "      <td>Dhaka</td>\n",
       "      <td>2018-01-25</td>\n",
       "      <td>ODI # 3965</td>\n",
       "      <td>10</td>\n",
       "      <td>0</td>\n",
       "      <td>Bangladesh</td>\n",
       "      <td>Bangladesh</td>\n",
       "    </tr>\n",
       "    <tr>\n",
       "      <th>21</th>\n",
       "      <td>Bangladesh</td>\n",
       "      <td>Sri Lanka</td>\n",
       "      <td>Sri Lanka</td>\n",
       "      <td>runs</td>\n",
       "      <td>Dhaka</td>\n",
       "      <td>2018-01-27</td>\n",
       "      <td>ODI # 3967</td>\n",
       "      <td>0</td>\n",
       "      <td>79</td>\n",
       "      <td>Bangladesh</td>\n",
       "      <td>Bangladesh</td>\n",
       "    </tr>\n",
       "    <tr>\n",
       "      <th>79</th>\n",
       "      <td>Sri Lanka</td>\n",
       "      <td>South Africa</td>\n",
       "      <td>South Africa</td>\n",
       "      <td>wickets</td>\n",
       "      <td>Dambulla</td>\n",
       "      <td>2018-07-29</td>\n",
       "      <td>ODI # 4025</td>\n",
       "      <td>5</td>\n",
       "      <td>0</td>\n",
       "      <td>Sri-Lanka</td>\n",
       "      <td>Other</td>\n",
       "    </tr>\n",
       "    <tr>\n",
       "      <th>81</th>\n",
       "      <td>Sri Lanka</td>\n",
       "      <td>South Africa</td>\n",
       "      <td>South Africa</td>\n",
       "      <td>wickets</td>\n",
       "      <td>Dambulla</td>\n",
       "      <td>2018-08-01</td>\n",
       "      <td>ODI # 4027</td>\n",
       "      <td>4</td>\n",
       "      <td>0</td>\n",
       "      <td>Sri-Lanka</td>\n",
       "      <td>Other</td>\n",
       "    </tr>\n",
       "    <tr>\n",
       "      <th>83</th>\n",
       "      <td>Sri Lanka</td>\n",
       "      <td>South Africa</td>\n",
       "      <td>South Africa</td>\n",
       "      <td>runs</td>\n",
       "      <td>Pallekele</td>\n",
       "      <td>2018-08-05</td>\n",
       "      <td>ODI # 4029</td>\n",
       "      <td>0</td>\n",
       "      <td>78</td>\n",
       "      <td>Sri Lanka</td>\n",
       "      <td>Sri Lanka</td>\n",
       "    </tr>\n",
       "    <tr>\n",
       "      <th>84</th>\n",
       "      <td>Sri Lanka</td>\n",
       "      <td>South Africa</td>\n",
       "      <td>Sri Lanka</td>\n",
       "      <td>runs</td>\n",
       "      <td>Pallekele</td>\n",
       "      <td>2018-08-08</td>\n",
       "      <td>ODI # 4030</td>\n",
       "      <td>0</td>\n",
       "      <td>3</td>\n",
       "      <td>Sri Lanka</td>\n",
       "      <td>Sri Lanka</td>\n",
       "    </tr>\n",
       "    <tr>\n",
       "      <th>85</th>\n",
       "      <td>Sri Lanka</td>\n",
       "      <td>South Africa</td>\n",
       "      <td>Sri Lanka</td>\n",
       "      <td>runs</td>\n",
       "      <td>Colombo (RPS)</td>\n",
       "      <td>2018-08-12</td>\n",
       "      <td>ODI # 4031</td>\n",
       "      <td>0</td>\n",
       "      <td>178</td>\n",
       "      <td>Sri Lanka</td>\n",
       "      <td>Sri Lanka</td>\n",
       "    </tr>\n",
       "    <tr>\n",
       "      <th>90</th>\n",
       "      <td>Bangladesh</td>\n",
       "      <td>Sri Lanka</td>\n",
       "      <td>Bangladesh</td>\n",
       "      <td>runs</td>\n",
       "      <td>Dubai (DSC)</td>\n",
       "      <td>2018-09-15</td>\n",
       "      <td>ODI # 4036</td>\n",
       "      <td>0</td>\n",
       "      <td>137</td>\n",
       "      <td>U.A.E.</td>\n",
       "      <td>Other</td>\n",
       "    </tr>\n",
       "    <tr>\n",
       "      <th>92</th>\n",
       "      <td>Afghanistan</td>\n",
       "      <td>Sri Lanka</td>\n",
       "      <td>Afghanistan</td>\n",
       "      <td>runs</td>\n",
       "      <td>Abu Dhabi</td>\n",
       "      <td>2018-09-17</td>\n",
       "      <td>ODI # 4038</td>\n",
       "      <td>0</td>\n",
       "      <td>91</td>\n",
       "      <td>U.A.E.</td>\n",
       "      <td>Other</td>\n",
       "    </tr>\n",
       "    <tr>\n",
       "      <th>106</th>\n",
       "      <td>Sri Lanka</td>\n",
       "      <td>England</td>\n",
       "      <td>no result</td>\n",
       "      <td>nan</td>\n",
       "      <td>Dambulla</td>\n",
       "      <td>2018-10-10</td>\n",
       "      <td>ODI # 4052</td>\n",
       "      <td>0</td>\n",
       "      <td>0</td>\n",
       "      <td>Sri-Lanka</td>\n",
       "      <td>Other</td>\n",
       "    </tr>\n",
       "    <tr>\n",
       "      <th>107</th>\n",
       "      <td>Sri Lanka</td>\n",
       "      <td>England</td>\n",
       "      <td>England</td>\n",
       "      <td>runs</td>\n",
       "      <td>Dambulla</td>\n",
       "      <td>2018-10-13</td>\n",
       "      <td>ODI # 4053</td>\n",
       "      <td>0</td>\n",
       "      <td>31</td>\n",
       "      <td>Sri-Lanka</td>\n",
       "      <td>Other</td>\n",
       "    </tr>\n",
       "    <tr>\n",
       "      <th>108</th>\n",
       "      <td>Sri Lanka</td>\n",
       "      <td>England</td>\n",
       "      <td>England</td>\n",
       "      <td>wickets</td>\n",
       "      <td>Pallekele</td>\n",
       "      <td>2018-10-17</td>\n",
       "      <td>ODI # 4054</td>\n",
       "      <td>7</td>\n",
       "      <td>0</td>\n",
       "      <td>Sri Lanka</td>\n",
       "      <td>Sri Lanka</td>\n",
       "    </tr>\n",
       "    <tr>\n",
       "      <th>109</th>\n",
       "      <td>Sri Lanka</td>\n",
       "      <td>England</td>\n",
       "      <td>England</td>\n",
       "      <td>runs</td>\n",
       "      <td>Pallekele</td>\n",
       "      <td>2018-10-20</td>\n",
       "      <td>ODI # 4055</td>\n",
       "      <td>0</td>\n",
       "      <td>18</td>\n",
       "      <td>Sri Lanka</td>\n",
       "      <td>Sri Lanka</td>\n",
       "    </tr>\n",
       "    <tr>\n",
       "      <th>112</th>\n",
       "      <td>Sri Lanka</td>\n",
       "      <td>England</td>\n",
       "      <td>Sri Lanka</td>\n",
       "      <td>runs</td>\n",
       "      <td>Colombo (RPS)</td>\n",
       "      <td>2018-10-23</td>\n",
       "      <td>ODI # 4058</td>\n",
       "      <td>0</td>\n",
       "      <td>219</td>\n",
       "      <td>Sri Lanka</td>\n",
       "      <td>Sri Lanka</td>\n",
       "    </tr>\n",
       "  </tbody>\n",
       "</table>\n",
       "</div>"
      ],
      "text/plain": [
       "          Team 1        Team 2        Winner   Margin         Ground  \\\n",
       "9      Sri Lanka      Zimbabwe      Zimbabwe     runs          Dhaka   \n",
       "13    Bangladesh     Sri Lanka    Bangladesh     runs          Dhaka   \n",
       "16     Sri Lanka      Zimbabwe     Sri Lanka  wickets          Dhaka   \n",
       "19    Bangladesh     Sri Lanka     Sri Lanka  wickets          Dhaka   \n",
       "21    Bangladesh     Sri Lanka     Sri Lanka     runs          Dhaka   \n",
       "79     Sri Lanka  South Africa  South Africa  wickets       Dambulla   \n",
       "81     Sri Lanka  South Africa  South Africa  wickets       Dambulla   \n",
       "83     Sri Lanka  South Africa  South Africa     runs      Pallekele   \n",
       "84     Sri Lanka  South Africa     Sri Lanka     runs      Pallekele   \n",
       "85     Sri Lanka  South Africa     Sri Lanka     runs  Colombo (RPS)   \n",
       "90    Bangladesh     Sri Lanka    Bangladesh     runs    Dubai (DSC)   \n",
       "92   Afghanistan     Sri Lanka   Afghanistan     runs      Abu Dhabi   \n",
       "106    Sri Lanka       England     no result      nan       Dambulla   \n",
       "107    Sri Lanka       England       England     runs       Dambulla   \n",
       "108    Sri Lanka       England       England  wickets      Pallekele   \n",
       "109    Sri Lanka       England       England     runs      Pallekele   \n",
       "112    Sri Lanka       England     Sri Lanka     runs  Colombo (RPS)   \n",
       "\n",
       "    Match Date   Scorecard Wickets Runs Home Ground   Home Team  \n",
       "9   2018-01-17  ODI # 3955       0   12  Bangladesh       Other  \n",
       "13  2018-01-19  ODI # 3959       0  163  Bangladesh  Bangladesh  \n",
       "16  2018-01-21  ODI # 3962       5    0  Bangladesh       Other  \n",
       "19  2018-01-25  ODI # 3965      10    0  Bangladesh  Bangladesh  \n",
       "21  2018-01-27  ODI # 3967       0   79  Bangladesh  Bangladesh  \n",
       "79  2018-07-29  ODI # 4025       5    0   Sri-Lanka       Other  \n",
       "81  2018-08-01  ODI # 4027       4    0   Sri-Lanka       Other  \n",
       "83  2018-08-05  ODI # 4029       0   78   Sri Lanka   Sri Lanka  \n",
       "84  2018-08-08  ODI # 4030       0    3   Sri Lanka   Sri Lanka  \n",
       "85  2018-08-12  ODI # 4031       0  178   Sri Lanka   Sri Lanka  \n",
       "90  2018-09-15  ODI # 4036       0  137      U.A.E.       Other  \n",
       "92  2018-09-17  ODI # 4038       0   91      U.A.E.       Other  \n",
       "106 2018-10-10  ODI # 4052       0    0   Sri-Lanka       Other  \n",
       "107 2018-10-13  ODI # 4053       0   31   Sri-Lanka       Other  \n",
       "108 2018-10-17  ODI # 4054       7    0   Sri Lanka   Sri Lanka  \n",
       "109 2018-10-20  ODI # 4055       0   18   Sri Lanka   Sri Lanka  \n",
       "112 2018-10-23  ODI # 4058       0  219   Sri Lanka   Sri Lanka  "
      ]
     },
     "execution_count": 399,
     "metadata": {},
     "output_type": "execute_result"
    }
   ],
   "source": [
    "sri_lanka_games"
   ]
  },
  {
   "cell_type": "code",
   "execution_count": 400,
   "metadata": {},
   "outputs": [],
   "source": [
    "def winning_country(team):\n",
    "    if team=='Sri Lanka':\n",
    "        return 'Victory'\n",
    "    else:\n",
    "        return 'Defeat'"
   ]
  },
  {
   "cell_type": "code",
   "execution_count": 401,
   "metadata": {},
   "outputs": [
    {
     "name": "stderr",
     "output_type": "stream",
     "text": [
      "C:\\Users\\Gwenn\\anaconda3\\lib\\site-packages\\ipykernel_launcher.py:1: SettingWithCopyWarning: \n",
      "A value is trying to be set on a copy of a slice from a DataFrame.\n",
      "Try using .loc[row_indexer,col_indexer] = value instead\n",
      "\n",
      "See the caveats in the documentation: https://pandas.pydata.org/pandas-docs/stable/user_guide/indexing.html#returning-a-view-versus-a-copy\n",
      "  \"\"\"Entry point for launching an IPython kernel.\n"
     ]
    }
   ],
   "source": [
    "sri_lanka_games['Winner']=sri_lanka_games['Winner'].apply(lambda x:winning_country(x))"
   ]
  },
  {
   "cell_type": "code",
   "execution_count": 402,
   "metadata": {},
   "outputs": [
    {
     "data": {
      "text/html": [
       "<div>\n",
       "<style scoped>\n",
       "    .dataframe tbody tr th:only-of-type {\n",
       "        vertical-align: middle;\n",
       "    }\n",
       "\n",
       "    .dataframe tbody tr th {\n",
       "        vertical-align: top;\n",
       "    }\n",
       "\n",
       "    .dataframe thead th {\n",
       "        text-align: right;\n",
       "    }\n",
       "</style>\n",
       "<table border=\"1\" class=\"dataframe\">\n",
       "  <thead>\n",
       "    <tr style=\"text-align: right;\">\n",
       "      <th></th>\n",
       "      <th>Team 1</th>\n",
       "      <th>Team 2</th>\n",
       "      <th>Winner</th>\n",
       "      <th>Margin</th>\n",
       "      <th>Ground</th>\n",
       "      <th>Match Date</th>\n",
       "      <th>Scorecard</th>\n",
       "      <th>Wickets</th>\n",
       "      <th>Runs</th>\n",
       "      <th>Home Ground</th>\n",
       "      <th>Home Team</th>\n",
       "    </tr>\n",
       "  </thead>\n",
       "  <tbody>\n",
       "    <tr>\n",
       "      <th>9</th>\n",
       "      <td>Sri Lanka</td>\n",
       "      <td>Zimbabwe</td>\n",
       "      <td>Defeat</td>\n",
       "      <td>runs</td>\n",
       "      <td>Dhaka</td>\n",
       "      <td>2018-01-17</td>\n",
       "      <td>ODI # 3955</td>\n",
       "      <td>0</td>\n",
       "      <td>12</td>\n",
       "      <td>Bangladesh</td>\n",
       "      <td>Other</td>\n",
       "    </tr>\n",
       "    <tr>\n",
       "      <th>13</th>\n",
       "      <td>Bangladesh</td>\n",
       "      <td>Sri Lanka</td>\n",
       "      <td>Defeat</td>\n",
       "      <td>runs</td>\n",
       "      <td>Dhaka</td>\n",
       "      <td>2018-01-19</td>\n",
       "      <td>ODI # 3959</td>\n",
       "      <td>0</td>\n",
       "      <td>163</td>\n",
       "      <td>Bangladesh</td>\n",
       "      <td>Bangladesh</td>\n",
       "    </tr>\n",
       "    <tr>\n",
       "      <th>16</th>\n",
       "      <td>Sri Lanka</td>\n",
       "      <td>Zimbabwe</td>\n",
       "      <td>Victory</td>\n",
       "      <td>wickets</td>\n",
       "      <td>Dhaka</td>\n",
       "      <td>2018-01-21</td>\n",
       "      <td>ODI # 3962</td>\n",
       "      <td>5</td>\n",
       "      <td>0</td>\n",
       "      <td>Bangladesh</td>\n",
       "      <td>Other</td>\n",
       "    </tr>\n",
       "    <tr>\n",
       "      <th>19</th>\n",
       "      <td>Bangladesh</td>\n",
       "      <td>Sri Lanka</td>\n",
       "      <td>Victory</td>\n",
       "      <td>wickets</td>\n",
       "      <td>Dhaka</td>\n",
       "      <td>2018-01-25</td>\n",
       "      <td>ODI # 3965</td>\n",
       "      <td>10</td>\n",
       "      <td>0</td>\n",
       "      <td>Bangladesh</td>\n",
       "      <td>Bangladesh</td>\n",
       "    </tr>\n",
       "    <tr>\n",
       "      <th>21</th>\n",
       "      <td>Bangladesh</td>\n",
       "      <td>Sri Lanka</td>\n",
       "      <td>Victory</td>\n",
       "      <td>runs</td>\n",
       "      <td>Dhaka</td>\n",
       "      <td>2018-01-27</td>\n",
       "      <td>ODI # 3967</td>\n",
       "      <td>0</td>\n",
       "      <td>79</td>\n",
       "      <td>Bangladesh</td>\n",
       "      <td>Bangladesh</td>\n",
       "    </tr>\n",
       "    <tr>\n",
       "      <th>79</th>\n",
       "      <td>Sri Lanka</td>\n",
       "      <td>South Africa</td>\n",
       "      <td>Defeat</td>\n",
       "      <td>wickets</td>\n",
       "      <td>Dambulla</td>\n",
       "      <td>2018-07-29</td>\n",
       "      <td>ODI # 4025</td>\n",
       "      <td>5</td>\n",
       "      <td>0</td>\n",
       "      <td>Sri-Lanka</td>\n",
       "      <td>Other</td>\n",
       "    </tr>\n",
       "    <tr>\n",
       "      <th>81</th>\n",
       "      <td>Sri Lanka</td>\n",
       "      <td>South Africa</td>\n",
       "      <td>Defeat</td>\n",
       "      <td>wickets</td>\n",
       "      <td>Dambulla</td>\n",
       "      <td>2018-08-01</td>\n",
       "      <td>ODI # 4027</td>\n",
       "      <td>4</td>\n",
       "      <td>0</td>\n",
       "      <td>Sri-Lanka</td>\n",
       "      <td>Other</td>\n",
       "    </tr>\n",
       "    <tr>\n",
       "      <th>83</th>\n",
       "      <td>Sri Lanka</td>\n",
       "      <td>South Africa</td>\n",
       "      <td>Defeat</td>\n",
       "      <td>runs</td>\n",
       "      <td>Pallekele</td>\n",
       "      <td>2018-08-05</td>\n",
       "      <td>ODI # 4029</td>\n",
       "      <td>0</td>\n",
       "      <td>78</td>\n",
       "      <td>Sri Lanka</td>\n",
       "      <td>Sri Lanka</td>\n",
       "    </tr>\n",
       "    <tr>\n",
       "      <th>84</th>\n",
       "      <td>Sri Lanka</td>\n",
       "      <td>South Africa</td>\n",
       "      <td>Victory</td>\n",
       "      <td>runs</td>\n",
       "      <td>Pallekele</td>\n",
       "      <td>2018-08-08</td>\n",
       "      <td>ODI # 4030</td>\n",
       "      <td>0</td>\n",
       "      <td>3</td>\n",
       "      <td>Sri Lanka</td>\n",
       "      <td>Sri Lanka</td>\n",
       "    </tr>\n",
       "    <tr>\n",
       "      <th>85</th>\n",
       "      <td>Sri Lanka</td>\n",
       "      <td>South Africa</td>\n",
       "      <td>Victory</td>\n",
       "      <td>runs</td>\n",
       "      <td>Colombo (RPS)</td>\n",
       "      <td>2018-08-12</td>\n",
       "      <td>ODI # 4031</td>\n",
       "      <td>0</td>\n",
       "      <td>178</td>\n",
       "      <td>Sri Lanka</td>\n",
       "      <td>Sri Lanka</td>\n",
       "    </tr>\n",
       "    <tr>\n",
       "      <th>90</th>\n",
       "      <td>Bangladesh</td>\n",
       "      <td>Sri Lanka</td>\n",
       "      <td>Defeat</td>\n",
       "      <td>runs</td>\n",
       "      <td>Dubai (DSC)</td>\n",
       "      <td>2018-09-15</td>\n",
       "      <td>ODI # 4036</td>\n",
       "      <td>0</td>\n",
       "      <td>137</td>\n",
       "      <td>U.A.E.</td>\n",
       "      <td>Other</td>\n",
       "    </tr>\n",
       "    <tr>\n",
       "      <th>92</th>\n",
       "      <td>Afghanistan</td>\n",
       "      <td>Sri Lanka</td>\n",
       "      <td>Defeat</td>\n",
       "      <td>runs</td>\n",
       "      <td>Abu Dhabi</td>\n",
       "      <td>2018-09-17</td>\n",
       "      <td>ODI # 4038</td>\n",
       "      <td>0</td>\n",
       "      <td>91</td>\n",
       "      <td>U.A.E.</td>\n",
       "      <td>Other</td>\n",
       "    </tr>\n",
       "    <tr>\n",
       "      <th>106</th>\n",
       "      <td>Sri Lanka</td>\n",
       "      <td>England</td>\n",
       "      <td>Defeat</td>\n",
       "      <td>nan</td>\n",
       "      <td>Dambulla</td>\n",
       "      <td>2018-10-10</td>\n",
       "      <td>ODI # 4052</td>\n",
       "      <td>0</td>\n",
       "      <td>0</td>\n",
       "      <td>Sri-Lanka</td>\n",
       "      <td>Other</td>\n",
       "    </tr>\n",
       "    <tr>\n",
       "      <th>107</th>\n",
       "      <td>Sri Lanka</td>\n",
       "      <td>England</td>\n",
       "      <td>Defeat</td>\n",
       "      <td>runs</td>\n",
       "      <td>Dambulla</td>\n",
       "      <td>2018-10-13</td>\n",
       "      <td>ODI # 4053</td>\n",
       "      <td>0</td>\n",
       "      <td>31</td>\n",
       "      <td>Sri-Lanka</td>\n",
       "      <td>Other</td>\n",
       "    </tr>\n",
       "    <tr>\n",
       "      <th>108</th>\n",
       "      <td>Sri Lanka</td>\n",
       "      <td>England</td>\n",
       "      <td>Defeat</td>\n",
       "      <td>wickets</td>\n",
       "      <td>Pallekele</td>\n",
       "      <td>2018-10-17</td>\n",
       "      <td>ODI # 4054</td>\n",
       "      <td>7</td>\n",
       "      <td>0</td>\n",
       "      <td>Sri Lanka</td>\n",
       "      <td>Sri Lanka</td>\n",
       "    </tr>\n",
       "    <tr>\n",
       "      <th>109</th>\n",
       "      <td>Sri Lanka</td>\n",
       "      <td>England</td>\n",
       "      <td>Defeat</td>\n",
       "      <td>runs</td>\n",
       "      <td>Pallekele</td>\n",
       "      <td>2018-10-20</td>\n",
       "      <td>ODI # 4055</td>\n",
       "      <td>0</td>\n",
       "      <td>18</td>\n",
       "      <td>Sri Lanka</td>\n",
       "      <td>Sri Lanka</td>\n",
       "    </tr>\n",
       "    <tr>\n",
       "      <th>112</th>\n",
       "      <td>Sri Lanka</td>\n",
       "      <td>England</td>\n",
       "      <td>Victory</td>\n",
       "      <td>runs</td>\n",
       "      <td>Colombo (RPS)</td>\n",
       "      <td>2018-10-23</td>\n",
       "      <td>ODI # 4058</td>\n",
       "      <td>0</td>\n",
       "      <td>219</td>\n",
       "      <td>Sri Lanka</td>\n",
       "      <td>Sri Lanka</td>\n",
       "    </tr>\n",
       "  </tbody>\n",
       "</table>\n",
       "</div>"
      ],
      "text/plain": [
       "          Team 1        Team 2   Winner   Margin         Ground Match Date  \\\n",
       "9      Sri Lanka      Zimbabwe   Defeat     runs          Dhaka 2018-01-17   \n",
       "13    Bangladesh     Sri Lanka   Defeat     runs          Dhaka 2018-01-19   \n",
       "16     Sri Lanka      Zimbabwe  Victory  wickets          Dhaka 2018-01-21   \n",
       "19    Bangladesh     Sri Lanka  Victory  wickets          Dhaka 2018-01-25   \n",
       "21    Bangladesh     Sri Lanka  Victory     runs          Dhaka 2018-01-27   \n",
       "79     Sri Lanka  South Africa   Defeat  wickets       Dambulla 2018-07-29   \n",
       "81     Sri Lanka  South Africa   Defeat  wickets       Dambulla 2018-08-01   \n",
       "83     Sri Lanka  South Africa   Defeat     runs      Pallekele 2018-08-05   \n",
       "84     Sri Lanka  South Africa  Victory     runs      Pallekele 2018-08-08   \n",
       "85     Sri Lanka  South Africa  Victory     runs  Colombo (RPS) 2018-08-12   \n",
       "90    Bangladesh     Sri Lanka   Defeat     runs    Dubai (DSC) 2018-09-15   \n",
       "92   Afghanistan     Sri Lanka   Defeat     runs      Abu Dhabi 2018-09-17   \n",
       "106    Sri Lanka       England   Defeat      nan       Dambulla 2018-10-10   \n",
       "107    Sri Lanka       England   Defeat     runs       Dambulla 2018-10-13   \n",
       "108    Sri Lanka       England   Defeat  wickets      Pallekele 2018-10-17   \n",
       "109    Sri Lanka       England   Defeat     runs      Pallekele 2018-10-20   \n",
       "112    Sri Lanka       England  Victory     runs  Colombo (RPS) 2018-10-23   \n",
       "\n",
       "      Scorecard Wickets Runs Home Ground   Home Team  \n",
       "9    ODI # 3955       0   12  Bangladesh       Other  \n",
       "13   ODI # 3959       0  163  Bangladesh  Bangladesh  \n",
       "16   ODI # 3962       5    0  Bangladesh       Other  \n",
       "19   ODI # 3965      10    0  Bangladesh  Bangladesh  \n",
       "21   ODI # 3967       0   79  Bangladesh  Bangladesh  \n",
       "79   ODI # 4025       5    0   Sri-Lanka       Other  \n",
       "81   ODI # 4027       4    0   Sri-Lanka       Other  \n",
       "83   ODI # 4029       0   78   Sri Lanka   Sri Lanka  \n",
       "84   ODI # 4030       0    3   Sri Lanka   Sri Lanka  \n",
       "85   ODI # 4031       0  178   Sri Lanka   Sri Lanka  \n",
       "90   ODI # 4036       0  137      U.A.E.       Other  \n",
       "92   ODI # 4038       0   91      U.A.E.       Other  \n",
       "106  ODI # 4052       0    0   Sri-Lanka       Other  \n",
       "107  ODI # 4053       0   31   Sri-Lanka       Other  \n",
       "108  ODI # 4054       7    0   Sri Lanka   Sri Lanka  \n",
       "109  ODI # 4055       0   18   Sri Lanka   Sri Lanka  \n",
       "112  ODI # 4058       0  219   Sri Lanka   Sri Lanka  "
      ]
     },
     "execution_count": 402,
     "metadata": {},
     "output_type": "execute_result"
    }
   ],
   "source": [
    "sri_lanka_games"
   ]
  },
  {
   "cell_type": "code",
   "execution_count": 403,
   "metadata": {},
   "outputs": [
    {
     "name": "stdout",
     "output_type": "stream",
     "text": [
      "Sri Lanka Performances\n",
      "Defeat     65.0\n",
      "Victory    35.0\n",
      "Name: Winner, dtype: float64 %\n"
     ]
    },
    {
     "data": {
      "image/png": "[encoded data removed]",
      "text/plain": [
       "<Figure size 432x432 with 1 Axes>"
      ]
     },
     "metadata": {},
     "output_type": "display_data"
    }
   ],
   "source": [
    "plt.figure(figsize=(6,6))\n",
    "sri_lanka_games.groupby('Winner').count()['Scorecard'].plot.pie(fontsize=12)\n",
    "print('Sri Lanka Performances')\n",
    "print(sri_lanka_games['Winner'].value_counts(normalize=True).round(2)*100,'%')"
   ]
  },
  {
   "cell_type": "code",
   "execution_count": 466,
   "metadata": {},
   "outputs": [
    {
     "data": {
      "text/plain": [
       "(array([0, 1, 2]), <a list of 3 Text xticklabel objects>)"
      ]
     },
     "execution_count": 466,
     "metadata": {},
     "output_type": "execute_result"
    },
    {
     "data": {
      "image/png": "[encoded data removed]",
      "text/plain": [
       "<Figure size 432x288 with 1 Axes>"
      ]
     },
     "metadata": {
      "needs_background": "light"
     },
     "output_type": "display_data"
    }
   ],
   "source": [
    "sns.countplot(x='Margin',data=sri_lanka_games,hue='Winner')\n",
    "plt.title('Sri Lanka Performances Summary',fontsize=15)\n",
    "plt.xticks(rotation=0)"
   ]
  },
  {
   "cell_type": "code",
   "execution_count": 412,
   "metadata": {},
   "outputs": [
    {
     "data": {
      "text/plain": [
       "Winner   Margin \n",
       "Defeat   runs       64.0\n",
       "         wickets    27.0\n",
       "         nan         9.0\n",
       "Victory  runs       67.0\n",
       "         wickets    33.0\n",
       "Name: Margin, dtype: float64"
      ]
     },
     "execution_count": 412,
     "metadata": {},
     "output_type": "execute_result"
    }
   ],
   "source": [
    "sri_lanka_games.groupby('Winner')['Margin'].value_counts(normalize=True).round(2)*100"
   ]
  },
  {
   "cell_type": "markdown",
   "metadata": {},
   "source": [
    "# 7) What are the top 3 wins by Run?"
   ]
  },
  {
   "cell_type": "code",
   "execution_count": 413,
   "metadata": {},
   "outputs": [],
   "source": [
    "df['Runs']=df['Runs'].astype(int)"
   ]
  },
  {
   "cell_type": "code",
   "execution_count": 414,
   "metadata": {},
   "outputs": [
    {
     "data": {
      "text/html": [
       "<div>\n",
       "<style scoped>\n",
       "    .dataframe tbody tr th:only-of-type {\n",
       "        vertical-align: middle;\n",
       "    }\n",
       "\n",
       "    .dataframe tbody tr th {\n",
       "        vertical-align: top;\n",
       "    }\n",
       "\n",
       "    .dataframe thead th {\n",
       "        text-align: right;\n",
       "    }\n",
       "</style>\n",
       "<table border=\"1\" class=\"dataframe\">\n",
       "  <thead>\n",
       "    <tr style=\"text-align: right;\">\n",
       "      <th></th>\n",
       "      <th>Team 1</th>\n",
       "      <th>Team 2</th>\n",
       "      <th>Winner</th>\n",
       "      <th>Margin</th>\n",
       "      <th>Ground</th>\n",
       "      <th>Match Date</th>\n",
       "      <th>Scorecard</th>\n",
       "      <th>Wickets</th>\n",
       "      <th>Runs</th>\n",
       "      <th>Home Ground</th>\n",
       "      <th>Home Team</th>\n",
       "    </tr>\n",
       "  </thead>\n",
       "  <tbody>\n",
       "    <tr>\n",
       "      <th>74</th>\n",
       "      <td>Zimbabwe</td>\n",
       "      <td>Pakistan</td>\n",
       "      <td>Pakistan</td>\n",
       "      <td>runs</td>\n",
       "      <td>Bulawayo</td>\n",
       "      <td>2018-07-20</td>\n",
       "      <td>ODI # 4020</td>\n",
       "      <td>0</td>\n",
       "      <td>244</td>\n",
       "      <td>Zimbabwe</td>\n",
       "      <td>Zimbabwe</td>\n",
       "    </tr>\n",
       "    <tr>\n",
       "      <th>65</th>\n",
       "      <td>England</td>\n",
       "      <td>Australia</td>\n",
       "      <td>England</td>\n",
       "      <td>runs</td>\n",
       "      <td>Nottingham</td>\n",
       "      <td>2018-06-19</td>\n",
       "      <td>ODI # 4011</td>\n",
       "      <td>0</td>\n",
       "      <td>242</td>\n",
       "      <td>England</td>\n",
       "      <td>England</td>\n",
       "    </tr>\n",
       "    <tr>\n",
       "      <th>49</th>\n",
       "      <td>Ireland</td>\n",
       "      <td>U.A.E.</td>\n",
       "      <td>Ireland</td>\n",
       "      <td>runs</td>\n",
       "      <td>Harare</td>\n",
       "      <td>2018-03-12</td>\n",
       "      <td>ODI # 3995</td>\n",
       "      <td>0</td>\n",
       "      <td>226</td>\n",
       "      <td>Zimbabwe</td>\n",
       "      <td>Other</td>\n",
       "    </tr>\n",
       "  </tbody>\n",
       "</table>\n",
       "</div>"
      ],
      "text/plain": [
       "      Team 1     Team 2    Winner Margin      Ground Match Date   Scorecard  \\\n",
       "74  Zimbabwe   Pakistan  Pakistan   runs    Bulawayo 2018-07-20  ODI # 4020   \n",
       "65   England  Australia   England   runs  Nottingham 2018-06-19  ODI # 4011   \n",
       "49   Ireland     U.A.E.   Ireland   runs      Harare 2018-03-12  ODI # 3995   \n",
       "\n",
       "   Wickets  Runs Home Ground Home Team  \n",
       "74       0   244    Zimbabwe  Zimbabwe  \n",
       "65       0   242     England   England  \n",
       "49       0   226    Zimbabwe     Other  "
      ]
     },
     "execution_count": 414,
     "metadata": {},
     "output_type": "execute_result"
    }
   ],
   "source": [
    "df.sort_values(by='Runs',ascending=False).head(3)"
   ]
  },
  {
   "cell_type": "markdown",
   "metadata": {},
   "source": [
    "# 8) Find out during which month most of the ODI's were played?"
   ]
  },
  {
   "cell_type": "code",
   "execution_count": 415,
   "metadata": {},
   "outputs": [],
   "source": [
    "df['Month']=df['Match Date'].dt.month"
   ]
  },
  {
   "cell_type": "code",
   "execution_count": 416,
   "metadata": {},
   "outputs": [],
   "source": [
    "mmap={1:'Jan',2:'Feb',3:'Mar',4:'Apr',5:'May',6:'Jun',7:'Jul',8:'Aug',9:'Sep',10:'Oct',11:'Nov',12:'Dec'}"
   ]
  },
  {
   "cell_type": "code",
   "execution_count": 417,
   "metadata": {},
   "outputs": [],
   "source": [
    "df['Month']=df['Month'].map(mmap)"
   ]
  },
  {
   "cell_type": "code",
   "execution_count": 418,
   "metadata": {},
   "outputs": [
    {
     "data": {
      "text/plain": [
       "Month\n",
       "Mar    26\n",
       "Jan    23\n",
       "Sep    14\n",
       "Oct    14\n",
       "Feb    13\n",
       "Jul    12\n",
       "Aug    10\n",
       "Nov     7\n",
       "Jun     6\n",
       "Dec     3\n",
       "Name: Scorecard, dtype: int64"
      ]
     },
     "execution_count": 418,
     "metadata": {},
     "output_type": "execute_result"
    }
   ],
   "source": [
    "df.groupby('Month').count()['Scorecard'].sort_values(ascending=False)"
   ]
  },
  {
   "cell_type": "markdown",
   "metadata": {},
   "source": [
    "March was when most of the games were played"
   ]
  },
  {
   "cell_type": "markdown",
   "metadata": {},
   "source": [
    "# 9) Team which toured the most in foreign countries"
   ]
  },
  {
   "cell_type": "code",
   "execution_count": 498,
   "metadata": {},
   "outputs": [],
   "source": [
    "df['Team 1 Toured']=(df['Team 1']!=df['Home Team'])\n",
    "df['Team 2 Toured']=(df['Team 2']!=df['Home Team'])"
   ]
  },
  {
   "cell_type": "code",
   "execution_count": 499,
   "metadata": {},
   "outputs": [],
   "source": [
    "team1_toured=df[df['Team 1 Toured']==True]\n",
    "team2_toured=df[df['Team 2 Toured']==True]"
   ]
  },
  {
   "cell_type": "code",
   "execution_count": 503,
   "metadata": {},
   "outputs": [
    {
     "data": {
      "text/plain": [
       "Team 1\n",
       "Afghanistan    16\n",
       "Ireland         9\n",
       "Sri Lanka       6\n",
       "Hong Kong       4\n",
       "Bangladesh      4\n",
       "West Indies     3\n",
       "New Zealand     3\n",
       "Scotland        2\n",
       "P.N.G.          2\n",
       "India           2\n",
       "U.A.E.          1\n",
       "Nepal           1\n",
       "Name: Scorecard, dtype: int64"
      ]
     },
     "execution_count": 503,
     "metadata": {},
     "output_type": "execute_result"
    }
   ],
   "source": [
    "team1_toured.groupby('Team 1').count()['Scorecard'].sort_values(ascending=False)"
   ]
  },
  {
   "cell_type": "code",
   "execution_count": 504,
   "metadata": {},
   "outputs": [
    {
     "data": {
      "text/plain": [
       "Team 2\n",
       "Pakistan        18\n",
       "England         16\n",
       "Zimbabwe        15\n",
       "West Indies     15\n",
       "India           13\n",
       "South Africa     8\n",
       "Scotland         8\n",
       "U.A.E.           6\n",
       "Sri Lanka        5\n",
       "Bangladesh       5\n",
       "Australia        5\n",
       "Ireland          4\n",
       "Afghanistan      4\n",
       "P.N.G.           2\n",
       "Nepal            2\n",
       "Hong Kong        2\n",
       "Name: Scorecard, dtype: int64"
      ]
     },
     "execution_count": 504,
     "metadata": {},
     "output_type": "execute_result"
    }
   ],
   "source": [
    "team2_toured.groupby('Team 2').count()['Scorecard'].sort_values(ascending=False)"
   ]
  },
  {
   "cell_type": "markdown",
   "metadata": {},
   "source": [
    "Pakistan was the team that toured the most"
   ]
  },
  {
   "cell_type": "markdown",
   "metadata": {},
   "source": [
    "# 10) How many cricket matches were played every month?"
   ]
  },
  {
   "cell_type": "code",
   "execution_count": 419,
   "metadata": {},
   "outputs": [],
   "source": [
    "games_per_month=df.groupby('Month').count()['Scorecard']"
   ]
  },
  {
   "cell_type": "code",
   "execution_count": 420,
   "metadata": {},
   "outputs": [
    {
     "data": {
      "text/plain": [
       "Month\n",
       "Aug    10\n",
       "Dec     3\n",
       "Feb    13\n",
       "Jan    23\n",
       "Jul    12\n",
       "Jun     6\n",
       "Mar    26\n",
       "Nov     7\n",
       "Oct    14\n",
       "Sep    14\n",
       "Name: Scorecard, dtype: int64"
      ]
     },
     "execution_count": 420,
     "metadata": {},
     "output_type": "execute_result"
    }
   ],
   "source": [
    "games_per_month"
   ]
  },
  {
   "cell_type": "code",
   "execution_count": 421,
   "metadata": {},
   "outputs": [
    {
     "data": {
      "text/plain": [
       "Text(0, 0.5, 'Games count')"
      ]
     },
     "execution_count": 421,
     "metadata": {},
     "output_type": "execute_result"
    },
    {
     "data": {
      "image/png": "[encoded data removed]",
      "text/plain": [
       "<Figure size 1440x576 with 1 Axes>"
      ]
     },
     "metadata": {
      "needs_background": "light"
     },
     "output_type": "display_data"
    }
   ],
   "source": [
    "plt.figure(figsize=(20,8))\n",
    "games_per_month.plot(linewidth=1.5)\n",
    "plt.title('Games Played per month',fontsize=15)\n",
    "plt.ylabel('Games count')"
   ]
  },
  {
   "cell_type": "markdown",
   "metadata": {},
   "source": [
    "# 11) On wich ground most games were played?"
   ]
  },
  {
   "cell_type": "code",
   "execution_count": 422,
   "metadata": {},
   "outputs": [
    {
     "data": {
      "text/plain": [
       "Ground\n",
       "Harare    16\n",
       "Name: Scorecard, dtype: int64"
      ]
     },
     "execution_count": 422,
     "metadata": {},
     "output_type": "execute_result"
    }
   ],
   "source": [
    "df.groupby('Ground').count()['Scorecard'].sort_values(ascending=False).head(1)"
   ]
  },
  {
   "cell_type": "markdown",
   "metadata": {},
   "source": [
    "Harare was the number one ground in terms of played games"
   ]
  },
  {
   "cell_type": "markdown",
   "metadata": {},
   "source": [
    "# 12) Did India win mostly by chasing or playing first?"
   ]
  },
  {
   "cell_type": "code",
   "execution_count": 423,
   "metadata": {},
   "outputs": [],
   "source": [
    "India_Wins=df[df['Winner']=='India']"
   ]
  },
  {
   "cell_type": "code",
   "execution_count": 424,
   "metadata": {},
   "outputs": [
    {
     "data": {
      "text/html": [
       "<div>\n",
       "<style scoped>\n",
       "    .dataframe tbody tr th:only-of-type {\n",
       "        vertical-align: middle;\n",
       "    }\n",
       "\n",
       "    .dataframe tbody tr th {\n",
       "        vertical-align: top;\n",
       "    }\n",
       "\n",
       "    .dataframe thead th {\n",
       "        text-align: right;\n",
       "    }\n",
       "</style>\n",
       "<table border=\"1\" class=\"dataframe\">\n",
       "  <thead>\n",
       "    <tr style=\"text-align: right;\">\n",
       "      <th></th>\n",
       "      <th>Team 1</th>\n",
       "      <th>Team 2</th>\n",
       "      <th>Winner</th>\n",
       "      <th>Margin</th>\n",
       "      <th>Ground</th>\n",
       "      <th>Match Date</th>\n",
       "      <th>Scorecard</th>\n",
       "      <th>Wickets</th>\n",
       "      <th>Runs</th>\n",
       "      <th>Home Ground</th>\n",
       "      <th>Home Team</th>\n",
       "      <th>Month</th>\n",
       "    </tr>\n",
       "  </thead>\n",
       "  <tbody>\n",
       "    <tr>\n",
       "      <th>23</th>\n",
       "      <td>South Africa</td>\n",
       "      <td>India</td>\n",
       "      <td>India</td>\n",
       "      <td>wickets</td>\n",
       "      <td>Durban</td>\n",
       "      <td>2018-02-01</td>\n",
       "      <td>ODI # 3969</td>\n",
       "      <td>6</td>\n",
       "      <td>0</td>\n",
       "      <td>South Africa</td>\n",
       "      <td>South Africa</td>\n",
       "      <td>Feb</td>\n",
       "    </tr>\n",
       "    <tr>\n",
       "      <th>24</th>\n",
       "      <td>South Africa</td>\n",
       "      <td>India</td>\n",
       "      <td>India</td>\n",
       "      <td>wickets</td>\n",
       "      <td>Centurion</td>\n",
       "      <td>2018-02-04</td>\n",
       "      <td>ODI # 3970</td>\n",
       "      <td>9</td>\n",
       "      <td>0</td>\n",
       "      <td>South Africa</td>\n",
       "      <td>South Africa</td>\n",
       "      <td>Feb</td>\n",
       "    </tr>\n",
       "    <tr>\n",
       "      <th>25</th>\n",
       "      <td>South Africa</td>\n",
       "      <td>India</td>\n",
       "      <td>India</td>\n",
       "      <td>runs</td>\n",
       "      <td>Cape Town</td>\n",
       "      <td>2018-02-07</td>\n",
       "      <td>ODI # 3971</td>\n",
       "      <td>0</td>\n",
       "      <td>124</td>\n",
       "      <td>South Africa</td>\n",
       "      <td>South Africa</td>\n",
       "      <td>Feb</td>\n",
       "    </tr>\n",
       "    <tr>\n",
       "      <th>30</th>\n",
       "      <td>South Africa</td>\n",
       "      <td>India</td>\n",
       "      <td>India</td>\n",
       "      <td>runs</td>\n",
       "      <td>Port Elizabeth</td>\n",
       "      <td>2018-02-13</td>\n",
       "      <td>ODI # 3976</td>\n",
       "      <td>0</td>\n",
       "      <td>73</td>\n",
       "      <td>South Africa</td>\n",
       "      <td>South Africa</td>\n",
       "      <td>Feb</td>\n",
       "    </tr>\n",
       "    <tr>\n",
       "      <th>32</th>\n",
       "      <td>South Africa</td>\n",
       "      <td>India</td>\n",
       "      <td>India</td>\n",
       "      <td>wickets</td>\n",
       "      <td>Centurion</td>\n",
       "      <td>2018-02-16</td>\n",
       "      <td>ODI # 3978</td>\n",
       "      <td>8</td>\n",
       "      <td>0</td>\n",
       "      <td>South Africa</td>\n",
       "      <td>South Africa</td>\n",
       "      <td>Feb</td>\n",
       "    </tr>\n",
       "    <tr>\n",
       "      <th>68</th>\n",
       "      <td>England</td>\n",
       "      <td>India</td>\n",
       "      <td>India</td>\n",
       "      <td>wickets</td>\n",
       "      <td>Nottingham</td>\n",
       "      <td>2018-07-12</td>\n",
       "      <td>ODI # 4014</td>\n",
       "      <td>8</td>\n",
       "      <td>0</td>\n",
       "      <td>England</td>\n",
       "      <td>England</td>\n",
       "      <td>Jul</td>\n",
       "    </tr>\n",
       "    <tr>\n",
       "      <th>93</th>\n",
       "      <td>Hong Kong</td>\n",
       "      <td>India</td>\n",
       "      <td>India</td>\n",
       "      <td>runs</td>\n",
       "      <td>Dubai (DSC)</td>\n",
       "      <td>2018-09-18</td>\n",
       "      <td>ODI # 4039</td>\n",
       "      <td>0</td>\n",
       "      <td>26</td>\n",
       "      <td>U.A.E.</td>\n",
       "      <td>Other</td>\n",
       "      <td>Sep</td>\n",
       "    </tr>\n",
       "    <tr>\n",
       "      <th>94</th>\n",
       "      <td>India</td>\n",
       "      <td>Pakistan</td>\n",
       "      <td>India</td>\n",
       "      <td>wickets</td>\n",
       "      <td>Dubai (DSC)</td>\n",
       "      <td>2018-09-19</td>\n",
       "      <td>ODI # 4040</td>\n",
       "      <td>8</td>\n",
       "      <td>0</td>\n",
       "      <td>U.A.E.</td>\n",
       "      <td>Other</td>\n",
       "      <td>Sep</td>\n",
       "    </tr>\n",
       "    <tr>\n",
       "      <th>96</th>\n",
       "      <td>Bangladesh</td>\n",
       "      <td>India</td>\n",
       "      <td>India</td>\n",
       "      <td>wickets</td>\n",
       "      <td>Dubai (DSC)</td>\n",
       "      <td>2018-09-21</td>\n",
       "      <td>ODI # 4042</td>\n",
       "      <td>7</td>\n",
       "      <td>0</td>\n",
       "      <td>U.A.E.</td>\n",
       "      <td>Other</td>\n",
       "      <td>Sep</td>\n",
       "    </tr>\n",
       "    <tr>\n",
       "      <th>98</th>\n",
       "      <td>India</td>\n",
       "      <td>Pakistan</td>\n",
       "      <td>India</td>\n",
       "      <td>wickets</td>\n",
       "      <td>Dubai (DSC)</td>\n",
       "      <td>2018-09-23</td>\n",
       "      <td>ODI # 4044</td>\n",
       "      <td>9</td>\n",
       "      <td>0</td>\n",
       "      <td>U.A.E.</td>\n",
       "      <td>Other</td>\n",
       "      <td>Sep</td>\n",
       "    </tr>\n",
       "    <tr>\n",
       "      <th>102</th>\n",
       "      <td>Bangladesh</td>\n",
       "      <td>India</td>\n",
       "      <td>India</td>\n",
       "      <td>wickets</td>\n",
       "      <td>Dubai (DSC)</td>\n",
       "      <td>2018-09-28</td>\n",
       "      <td>ODI # 4048</td>\n",
       "      <td>3</td>\n",
       "      <td>0</td>\n",
       "      <td>U.A.E.</td>\n",
       "      <td>Other</td>\n",
       "      <td>Sep</td>\n",
       "    </tr>\n",
       "    <tr>\n",
       "      <th>110</th>\n",
       "      <td>India</td>\n",
       "      <td>West Indies</td>\n",
       "      <td>India</td>\n",
       "      <td>wickets</td>\n",
       "      <td>Guwahati</td>\n",
       "      <td>2018-10-21</td>\n",
       "      <td>ODI # 4056</td>\n",
       "      <td>8</td>\n",
       "      <td>0</td>\n",
       "      <td>India</td>\n",
       "      <td>India</td>\n",
       "      <td>Oct</td>\n",
       "    </tr>\n",
       "    <tr>\n",
       "      <th>117</th>\n",
       "      <td>India</td>\n",
       "      <td>West Indies</td>\n",
       "      <td>India</td>\n",
       "      <td>runs</td>\n",
       "      <td>Mumbai (BS)</td>\n",
       "      <td>2018-10-29</td>\n",
       "      <td>ODI # 4063</td>\n",
       "      <td>0</td>\n",
       "      <td>224</td>\n",
       "      <td>India</td>\n",
       "      <td>India</td>\n",
       "      <td>Oct</td>\n",
       "    </tr>\n",
       "    <tr>\n",
       "      <th>118</th>\n",
       "      <td>India</td>\n",
       "      <td>West Indies</td>\n",
       "      <td>India</td>\n",
       "      <td>wickets</td>\n",
       "      <td>Thiruvananthapuram</td>\n",
       "      <td>2018-11-01</td>\n",
       "      <td>ODI # 4064</td>\n",
       "      <td>9</td>\n",
       "      <td>0</td>\n",
       "      <td>India</td>\n",
       "      <td>India</td>\n",
       "      <td>Nov</td>\n",
       "    </tr>\n",
       "  </tbody>\n",
       "</table>\n",
       "</div>"
      ],
      "text/plain": [
       "           Team 1       Team 2 Winner   Margin              Ground Match Date  \\\n",
       "23   South Africa        India  India  wickets              Durban 2018-02-01   \n",
       "24   South Africa        India  India  wickets           Centurion 2018-02-04   \n",
       "25   South Africa        India  India     runs           Cape Town 2018-02-07   \n",
       "30   South Africa        India  India     runs      Port Elizabeth 2018-02-13   \n",
       "32   South Africa        India  India  wickets           Centurion 2018-02-16   \n",
       "68        England        India  India  wickets          Nottingham 2018-07-12   \n",
       "93      Hong Kong        India  India     runs         Dubai (DSC) 2018-09-18   \n",
       "94          India     Pakistan  India  wickets         Dubai (DSC) 2018-09-19   \n",
       "96     Bangladesh        India  India  wickets         Dubai (DSC) 2018-09-21   \n",
       "98          India     Pakistan  India  wickets         Dubai (DSC) 2018-09-23   \n",
       "102    Bangladesh        India  India  wickets         Dubai (DSC) 2018-09-28   \n",
       "110         India  West Indies  India  wickets            Guwahati 2018-10-21   \n",
       "117         India  West Indies  India     runs         Mumbai (BS) 2018-10-29   \n",
       "118         India  West Indies  India  wickets  Thiruvananthapuram 2018-11-01   \n",
       "\n",
       "      Scorecard Wickets  Runs   Home Ground     Home Team Month  \n",
       "23   ODI # 3969       6     0  South Africa  South Africa   Feb  \n",
       "24   ODI # 3970       9     0  South Africa  South Africa   Feb  \n",
       "25   ODI # 3971       0   124  South Africa  South Africa   Feb  \n",
       "30   ODI # 3976       0    73  South Africa  South Africa   Feb  \n",
       "32   ODI # 3978       8     0  South Africa  South Africa   Feb  \n",
       "68   ODI # 4014       8     0       England       England   Jul  \n",
       "93   ODI # 4039       0    26        U.A.E.         Other   Sep  \n",
       "94   ODI # 4040       8     0        U.A.E.         Other   Sep  \n",
       "96   ODI # 4042       7     0        U.A.E.         Other   Sep  \n",
       "98   ODI # 4044       9     0        U.A.E.         Other   Sep  \n",
       "102  ODI # 4048       3     0        U.A.E.         Other   Sep  \n",
       "110  ODI # 4056       8     0         India         India   Oct  \n",
       "117  ODI # 4063       0   224         India         India   Oct  \n",
       "118  ODI # 4064       9     0         India         India   Nov  "
      ]
     },
     "execution_count": 424,
     "metadata": {},
     "output_type": "execute_result"
    }
   ],
   "source": [
    "India_Wins"
   ]
  },
  {
   "cell_type": "code",
   "execution_count": 425,
   "metadata": {},
   "outputs": [
    {
     "name": "stderr",
     "output_type": "stream",
     "text": [
      "C:\\Users\\Gwenn\\anaconda3\\lib\\site-packages\\pandas\\core\\frame.py:2963: SettingWithCopyWarning: \n",
      "A value is trying to be set on a copy of a slice from a DataFrame.\n",
      "Try using .loc[row_indexer,col_indexer] = value instead\n",
      "\n",
      "See the caveats in the documentation: https://pandas.pydata.org/pandas-docs/stable/user_guide/indexing.html#returning-a-view-versus-a-copy\n",
      "  self[k1] = value[k2]\n"
     ]
    }
   ],
   "source": [
    "India_Wins[['Wickets','Runs']]=India_Wins[['Wickets','Runs']].apply(pd.to_numeric)"
   ]
  },
  {
   "cell_type": "code",
   "execution_count": 436,
   "metadata": {},
   "outputs": [
    {
     "data": {
      "text/plain": [
       "(array([0, 1]), <a list of 2 Text xticklabel objects>)"
      ]
     },
     "execution_count": 436,
     "metadata": {},
     "output_type": "execute_result"
    },
    {
     "data": {
      "image/png": "[encoded data removed]",
      "text/plain": [
       "<Figure size 432x288 with 1 Axes>"
      ]
     },
     "metadata": {
      "needs_background": "light"
     },
     "output_type": "display_data"
    }
   ],
   "source": [
    "India_Wins['Margin'].value_counts().plot.bar()\n",
    "plt.title('India Wins by Type Summary',fontsize=15)\n",
    "plt.xticks(rotation=0)"
   ]
  },
  {
   "cell_type": "markdown",
   "metadata": {},
   "source": [
    "# 13)Top 3 Countries which won most matches in 2018, what was their winning % every month"
   ]
  },
  {
   "cell_type": "code",
   "execution_count": 438,
   "metadata": {},
   "outputs": [
    {
     "data": {
      "text/plain": [
       "Winner\n",
       "England       17\n",
       "India         14\n",
       "Bangladesh    13\n",
       "Name: Scorecard, dtype: int64"
      ]
     },
     "execution_count": 438,
     "metadata": {},
     "output_type": "execute_result"
    }
   ],
   "source": [
    "df.groupby('Winner').count()['Scorecard'].sort_values(ascending=False).head(3)"
   ]
  },
  {
   "cell_type": "code",
   "execution_count": 439,
   "metadata": {},
   "outputs": [],
   "source": [
    "England_games=df.loc[(df['Team 1']=='England') | (df['Team 2']=='England')]"
   ]
  },
  {
   "cell_type": "code",
   "execution_count": 440,
   "metadata": {},
   "outputs": [],
   "source": [
    "def winner(team):\n",
    "    if team=='England':\n",
    "        return 'Win'\n",
    "    else:\n",
    "        return 'Loss'"
   ]
  },
  {
   "cell_type": "code",
   "execution_count": 441,
   "metadata": {},
   "outputs": [
    {
     "name": "stderr",
     "output_type": "stream",
     "text": [
      "C:\\Users\\Gwenn\\anaconda3\\lib\\site-packages\\ipykernel_launcher.py:1: SettingWithCopyWarning: \n",
      "A value is trying to be set on a copy of a slice from a DataFrame.\n",
      "Try using .loc[row_indexer,col_indexer] = value instead\n",
      "\n",
      "See the caveats in the documentation: https://pandas.pydata.org/pandas-docs/stable/user_guide/indexing.html#returning-a-view-versus-a-copy\n",
      "  \"\"\"Entry point for launching an IPython kernel.\n"
     ]
    }
   ],
   "source": [
    "England_games['Winner']=England_games['Winner'].apply(lambda x:winner(x))"
   ]
  },
  {
   "cell_type": "code",
   "execution_count": 442,
   "metadata": {},
   "outputs": [
    {
     "data": {
      "text/html": [
       "<div>\n",
       "<style scoped>\n",
       "    .dataframe tbody tr th:only-of-type {\n",
       "        vertical-align: middle;\n",
       "    }\n",
       "\n",
       "    .dataframe tbody tr th {\n",
       "        vertical-align: top;\n",
       "    }\n",
       "\n",
       "    .dataframe thead th {\n",
       "        text-align: right;\n",
       "    }\n",
       "</style>\n",
       "<table border=\"1\" class=\"dataframe\">\n",
       "  <thead>\n",
       "    <tr style=\"text-align: right;\">\n",
       "      <th></th>\n",
       "      <th>Team 1</th>\n",
       "      <th>Team 2</th>\n",
       "      <th>Winner</th>\n",
       "      <th>Margin</th>\n",
       "      <th>Ground</th>\n",
       "      <th>Match Date</th>\n",
       "      <th>Scorecard</th>\n",
       "      <th>Wickets</th>\n",
       "      <th>Runs</th>\n",
       "      <th>Home Ground</th>\n",
       "      <th>Home Team</th>\n",
       "      <th>Month</th>\n",
       "    </tr>\n",
       "  </thead>\n",
       "  <tbody>\n",
       "    <tr>\n",
       "      <th>5</th>\n",
       "      <td>Australia</td>\n",
       "      <td>England</td>\n",
       "      <td>Win</td>\n",
       "      <td>wickets</td>\n",
       "      <td>Melbourne</td>\n",
       "      <td>2018-01-14</td>\n",
       "      <td>ODI # 3951</td>\n",
       "      <td>5</td>\n",
       "      <td>0</td>\n",
       "      <td>Australia</td>\n",
       "      <td>Australia</td>\n",
       "      <td>Jan</td>\n",
       "    </tr>\n",
       "    <tr>\n",
       "      <th>12</th>\n",
       "      <td>Australia</td>\n",
       "      <td>England</td>\n",
       "      <td>Win</td>\n",
       "      <td>wickets</td>\n",
       "      <td>Brisbane</td>\n",
       "      <td>2018-01-19</td>\n",
       "      <td>ODI # 3958</td>\n",
       "      <td>4</td>\n",
       "      <td>0</td>\n",
       "      <td>Australia</td>\n",
       "      <td>Australia</td>\n",
       "      <td>Jan</td>\n",
       "    </tr>\n",
       "    <tr>\n",
       "      <th>14</th>\n",
       "      <td>Australia</td>\n",
       "      <td>England</td>\n",
       "      <td>Win</td>\n",
       "      <td>runs</td>\n",
       "      <td>Sydney</td>\n",
       "      <td>2018-01-21</td>\n",
       "      <td>ODI # 3960</td>\n",
       "      <td>0</td>\n",
       "      <td>16</td>\n",
       "      <td>Australia</td>\n",
       "      <td>Australia</td>\n",
       "      <td>Jan</td>\n",
       "    </tr>\n",
       "    <tr>\n",
       "      <th>20</th>\n",
       "      <td>Australia</td>\n",
       "      <td>England</td>\n",
       "      <td>Loss</td>\n",
       "      <td>wickets</td>\n",
       "      <td>Adelaide</td>\n",
       "      <td>2018-01-26</td>\n",
       "      <td>ODI # 3966</td>\n",
       "      <td>3</td>\n",
       "      <td>0</td>\n",
       "      <td>Australia</td>\n",
       "      <td>Australia</td>\n",
       "      <td>Jan</td>\n",
       "    </tr>\n",
       "    <tr>\n",
       "      <th>22</th>\n",
       "      <td>Australia</td>\n",
       "      <td>England</td>\n",
       "      <td>Win</td>\n",
       "      <td>runs</td>\n",
       "      <td>Perth</td>\n",
       "      <td>2018-01-28</td>\n",
       "      <td>ODI # 3968</td>\n",
       "      <td>0</td>\n",
       "      <td>12</td>\n",
       "      <td>Australia</td>\n",
       "      <td>Australia</td>\n",
       "      <td>Jan</td>\n",
       "    </tr>\n",
       "    <tr>\n",
       "      <th>34</th>\n",
       "      <td>New Zealand</td>\n",
       "      <td>England</td>\n",
       "      <td>Loss</td>\n",
       "      <td>wickets</td>\n",
       "      <td>Hamilton</td>\n",
       "      <td>2018-02-25</td>\n",
       "      <td>ODI # 3980</td>\n",
       "      <td>3</td>\n",
       "      <td>0</td>\n",
       "      <td>New Zealand</td>\n",
       "      <td>New Zealand</td>\n",
       "      <td>Feb</td>\n",
       "    </tr>\n",
       "    <tr>\n",
       "      <th>35</th>\n",
       "      <td>New Zealand</td>\n",
       "      <td>England</td>\n",
       "      <td>Win</td>\n",
       "      <td>wickets</td>\n",
       "      <td>Mount Maunganui</td>\n",
       "      <td>2018-02-28</td>\n",
       "      <td>ODI # 3981</td>\n",
       "      <td>6</td>\n",
       "      <td>0</td>\n",
       "      <td>New Zealand</td>\n",
       "      <td>New Zealand</td>\n",
       "      <td>Feb</td>\n",
       "    </tr>\n",
       "    <tr>\n",
       "      <th>36</th>\n",
       "      <td>New Zealand</td>\n",
       "      <td>England</td>\n",
       "      <td>Win</td>\n",
       "      <td>runs</td>\n",
       "      <td>Wellington</td>\n",
       "      <td>2018-03-03</td>\n",
       "      <td>ODI # 3982</td>\n",
       "      <td>0</td>\n",
       "      <td>4</td>\n",
       "      <td>New Zealand</td>\n",
       "      <td>New Zealand</td>\n",
       "      <td>Mar</td>\n",
       "    </tr>\n",
       "    <tr>\n",
       "      <th>43</th>\n",
       "      <td>New Zealand</td>\n",
       "      <td>England</td>\n",
       "      <td>Loss</td>\n",
       "      <td>wickets</td>\n",
       "      <td>Dunedin</td>\n",
       "      <td>2018-03-07</td>\n",
       "      <td>ODI # 3989</td>\n",
       "      <td>5</td>\n",
       "      <td>0</td>\n",
       "      <td>New Zealand</td>\n",
       "      <td>New Zealand</td>\n",
       "      <td>Mar</td>\n",
       "    </tr>\n",
       "    <tr>\n",
       "      <th>46</th>\n",
       "      <td>New Zealand</td>\n",
       "      <td>England</td>\n",
       "      <td>Win</td>\n",
       "      <td>wickets</td>\n",
       "      <td>Christchurch</td>\n",
       "      <td>2018-03-10</td>\n",
       "      <td>ODI # 3992</td>\n",
       "      <td>7</td>\n",
       "      <td>0</td>\n",
       "      <td>New Zealand</td>\n",
       "      <td>New Zealand</td>\n",
       "      <td>Mar</td>\n",
       "    </tr>\n",
       "  </tbody>\n",
       "</table>\n",
       "</div>"
      ],
      "text/plain": [
       "         Team 1   Team 2 Winner   Margin           Ground Match Date  \\\n",
       "5     Australia  England    Win  wickets        Melbourne 2018-01-14   \n",
       "12    Australia  England    Win  wickets         Brisbane 2018-01-19   \n",
       "14    Australia  England    Win     runs           Sydney 2018-01-21   \n",
       "20    Australia  England   Loss  wickets         Adelaide 2018-01-26   \n",
       "22    Australia  England    Win     runs            Perth 2018-01-28   \n",
       "34  New Zealand  England   Loss  wickets         Hamilton 2018-02-25   \n",
       "35  New Zealand  England    Win  wickets  Mount Maunganui 2018-02-28   \n",
       "36  New Zealand  England    Win     runs       Wellington 2018-03-03   \n",
       "43  New Zealand  England   Loss  wickets          Dunedin 2018-03-07   \n",
       "46  New Zealand  England    Win  wickets     Christchurch 2018-03-10   \n",
       "\n",
       "     Scorecard Wickets  Runs  Home Ground    Home Team Month  \n",
       "5   ODI # 3951       5     0    Australia    Australia   Jan  \n",
       "12  ODI # 3958       4     0    Australia    Australia   Jan  \n",
       "14  ODI # 3960       0    16    Australia    Australia   Jan  \n",
       "20  ODI # 3966       3     0    Australia    Australia   Jan  \n",
       "22  ODI # 3968       0    12    Australia    Australia   Jan  \n",
       "34  ODI # 3980       3     0  New Zealand  New Zealand   Feb  \n",
       "35  ODI # 3981       6     0  New Zealand  New Zealand   Feb  \n",
       "36  ODI # 3982       0     4  New Zealand  New Zealand   Mar  \n",
       "43  ODI # 3989       5     0  New Zealand  New Zealand   Mar  \n",
       "46  ODI # 3992       7     0  New Zealand  New Zealand   Mar  "
      ]
     },
     "execution_count": 442,
     "metadata": {},
     "output_type": "execute_result"
    }
   ],
   "source": [
    "England_games.head(10)"
   ]
  },
  {
   "cell_type": "markdown",
   "metadata": {},
   "source": [
    "England Win Rate per month"
   ]
  },
  {
   "cell_type": "code",
   "execution_count": 443,
   "metadata": {},
   "outputs": [
    {
     "data": {
      "text/plain": [
       "Month  Winner\n",
       "Feb    Loss      50.0\n",
       "       Win       50.0\n",
       "Jan    Win       80.0\n",
       "       Loss      20.0\n",
       "Jul    Win       67.0\n",
       "       Loss      33.0\n",
       "Jun    Win       83.0\n",
       "       Loss      17.0\n",
       "Mar    Win       67.0\n",
       "       Loss      33.0\n",
       "Oct    Win       60.0\n",
       "       Loss      40.0\n",
       "Name: Winner, dtype: float64"
      ]
     },
     "execution_count": 443,
     "metadata": {},
     "output_type": "execute_result"
    }
   ],
   "source": [
    "England_games.groupby('Month')['Winner'].value_counts(normalize=True).round(2)*100"
   ]
  },
  {
   "cell_type": "code",
   "execution_count": 444,
   "metadata": {},
   "outputs": [],
   "source": [
    "India_games=df.loc[(df['Team 1']=='India') | (df['Team 2']=='India')]"
   ]
  },
  {
   "cell_type": "code",
   "execution_count": 445,
   "metadata": {},
   "outputs": [],
   "source": [
    "def get_winner(team):\n",
    "    if team=='India':\n",
    "        return 'Win'\n",
    "    else:\n",
    "        return 'Loss'"
   ]
  },
  {
   "cell_type": "code",
   "execution_count": 446,
   "metadata": {},
   "outputs": [
    {
     "name": "stderr",
     "output_type": "stream",
     "text": [
      "C:\\Users\\Gwenn\\anaconda3\\lib\\site-packages\\ipykernel_launcher.py:1: SettingWithCopyWarning: \n",
      "A value is trying to be set on a copy of a slice from a DataFrame.\n",
      "Try using .loc[row_indexer,col_indexer] = value instead\n",
      "\n",
      "See the caveats in the documentation: https://pandas.pydata.org/pandas-docs/stable/user_guide/indexing.html#returning-a-view-versus-a-copy\n",
      "  \"\"\"Entry point for launching an IPython kernel.\n"
     ]
    }
   ],
   "source": [
    "India_games['Winner']=India_games['Winner'].apply(lambda x:get_winner(x))"
   ]
  },
  {
   "cell_type": "markdown",
   "metadata": {},
   "source": [
    "India Win Rate per month"
   ]
  },
  {
   "cell_type": "code",
   "execution_count": 447,
   "metadata": {},
   "outputs": [
    {
     "data": {
      "text/plain": [
       "Month  Winner\n",
       "Feb    Win        83.0\n",
       "       Loss       17.0\n",
       "Jul    Loss       67.0\n",
       "       Win        33.0\n",
       "Nov    Win       100.0\n",
       "Oct    Loss       50.0\n",
       "       Win        50.0\n",
       "Sep    Win        83.0\n",
       "       Loss       17.0\n",
       "Name: Winner, dtype: float64"
      ]
     },
     "execution_count": 447,
     "metadata": {},
     "output_type": "execute_result"
    }
   ],
   "source": [
    "India_games.groupby('Month')['Winner'].value_counts(normalize=True).round(2)*100"
   ]
  },
  {
   "cell_type": "code",
   "execution_count": 448,
   "metadata": {},
   "outputs": [],
   "source": [
    "Bangladesh_games=df.loc[(df['Team 1']=='Bangladesh') | (df['Team 2']=='Bangladesh')]"
   ]
  },
  {
   "cell_type": "code",
   "execution_count": 449,
   "metadata": {},
   "outputs": [],
   "source": [
    "def get_winner(team):\n",
    "    if team=='Bangladesh':\n",
    "        return 'Win'\n",
    "    else:\n",
    "        return 'Loss'"
   ]
  },
  {
   "cell_type": "code",
   "execution_count": 450,
   "metadata": {},
   "outputs": [
    {
     "name": "stderr",
     "output_type": "stream",
     "text": [
      "C:\\Users\\Gwenn\\anaconda3\\lib\\site-packages\\ipykernel_launcher.py:1: SettingWithCopyWarning: \n",
      "A value is trying to be set on a copy of a slice from a DataFrame.\n",
      "Try using .loc[row_indexer,col_indexer] = value instead\n",
      "\n",
      "See the caveats in the documentation: https://pandas.pydata.org/pandas-docs/stable/user_guide/indexing.html#returning-a-view-versus-a-copy\n",
      "  \"\"\"Entry point for launching an IPython kernel.\n"
     ]
    }
   ],
   "source": [
    "Bangladesh_games['Winner']=Bangladesh_games['Winner'].apply(lambda x:get_winner(x))"
   ]
  },
  {
   "cell_type": "markdown",
   "metadata": {},
   "source": [
    "Bangladesh Win Rate per month"
   ]
  },
  {
   "cell_type": "code",
   "execution_count": 451,
   "metadata": {},
   "outputs": [
    {
     "data": {
      "text/plain": [
       "Month  Winner\n",
       "Dec    Win        67.0\n",
       "       Loss       33.0\n",
       "Jan    Win        60.0\n",
       "       Loss       40.0\n",
       "Jul    Win        67.0\n",
       "       Loss       33.0\n",
       "Oct    Win       100.0\n",
       "Sep    Loss       50.0\n",
       "       Win        50.0\n",
       "Name: Winner, dtype: float64"
      ]
     },
     "execution_count": 451,
     "metadata": {},
     "output_type": "execute_result"
    }
   ],
   "source": [
    "Bangladesh_games.groupby('Month')['Winner'].value_counts(normalize=True).round(2)*100"
   ]
  },
  {
   "cell_type": "markdown",
   "metadata": {},
   "source": [
    "# 14) Team which lost most of its matches"
   ]
  },
  {
   "cell_type": "code",
   "execution_count": 453,
   "metadata": {},
   "outputs": [],
   "source": [
    "df['Loser']=np.where(df['Winner']==df['Team 1'],df['Team 2'],df['Team 1'])"
   ]
  },
  {
   "cell_type": "code",
   "execution_count": 454,
   "metadata": {},
   "outputs": [
    {
     "data": {
      "text/plain": [
       "Loser\n",
       "Zimbabwe    21\n",
       "Name: Scorecard, dtype: int64"
      ]
     },
     "execution_count": 454,
     "metadata": {},
     "output_type": "execute_result"
    }
   ],
   "source": [
    "df.groupby('Loser').count()['Scorecard'].sort_values(ascending=False).head(1)"
   ]
  },
  {
   "cell_type": "markdown",
   "metadata": {},
   "source": [
    "Zimbabwe is the team that lost most of its matches"
   ]
  },
  {
   "cell_type": "markdown",
   "metadata": {},
   "source": [
    "# 15) Did this team lost its matches by chasing or playing first? "
   ]
  },
  {
   "cell_type": "code",
   "execution_count": 455,
   "metadata": {},
   "outputs": [],
   "source": [
    "Zimbabwe_losses=df[df['Loser']=='Zimbabwe']"
   ]
  },
  {
   "cell_type": "code",
   "execution_count": 456,
   "metadata": {},
   "outputs": [
    {
     "data": {
      "text/html": [
       "<div>\n",
       "<style scoped>\n",
       "    .dataframe tbody tr th:only-of-type {\n",
       "        vertical-align: middle;\n",
       "    }\n",
       "\n",
       "    .dataframe tbody tr th {\n",
       "        vertical-align: top;\n",
       "    }\n",
       "\n",
       "    .dataframe thead th {\n",
       "        text-align: right;\n",
       "    }\n",
       "</style>\n",
       "<table border=\"1\" class=\"dataframe\">\n",
       "  <thead>\n",
       "    <tr style=\"text-align: right;\">\n",
       "      <th></th>\n",
       "      <th>Team 1</th>\n",
       "      <th>Team 2</th>\n",
       "      <th>Winner</th>\n",
       "      <th>Margin</th>\n",
       "      <th>Ground</th>\n",
       "      <th>Match Date</th>\n",
       "      <th>Scorecard</th>\n",
       "      <th>Wickets</th>\n",
       "      <th>Runs</th>\n",
       "      <th>Home Ground</th>\n",
       "      <th>Home Team</th>\n",
       "      <th>Month</th>\n",
       "      <th>Loser</th>\n",
       "    </tr>\n",
       "  </thead>\n",
       "  <tbody>\n",
       "    <tr>\n",
       "      <th>6</th>\n",
       "      <td>Bangladesh</td>\n",
       "      <td>Zimbabwe</td>\n",
       "      <td>Bangladesh</td>\n",
       "      <td>wickets</td>\n",
       "      <td>Dhaka</td>\n",
       "      <td>2018-01-15</td>\n",
       "      <td>ODI # 3952</td>\n",
       "      <td>8</td>\n",
       "      <td>0</td>\n",
       "      <td>Bangladesh</td>\n",
       "      <td>Bangladesh</td>\n",
       "      <td>Jan</td>\n",
       "      <td>Zimbabwe</td>\n",
       "    </tr>\n",
       "    <tr>\n",
       "      <th>16</th>\n",
       "      <td>Sri Lanka</td>\n",
       "      <td>Zimbabwe</td>\n",
       "      <td>Sri Lanka</td>\n",
       "      <td>wickets</td>\n",
       "      <td>Dhaka</td>\n",
       "      <td>2018-01-21</td>\n",
       "      <td>ODI # 3962</td>\n",
       "      <td>5</td>\n",
       "      <td>0</td>\n",
       "      <td>Bangladesh</td>\n",
       "      <td>Other</td>\n",
       "      <td>Jan</td>\n",
       "      <td>Zimbabwe</td>\n",
       "    </tr>\n",
       "    <tr>\n",
       "      <th>18</th>\n",
       "      <td>Bangladesh</td>\n",
       "      <td>Zimbabwe</td>\n",
       "      <td>Bangladesh</td>\n",
       "      <td>runs</td>\n",
       "      <td>Dhaka</td>\n",
       "      <td>2018-01-23</td>\n",
       "      <td>ODI # 3964</td>\n",
       "      <td>0</td>\n",
       "      <td>91</td>\n",
       "      <td>Bangladesh</td>\n",
       "      <td>Bangladesh</td>\n",
       "      <td>Jan</td>\n",
       "      <td>Zimbabwe</td>\n",
       "    </tr>\n",
       "    <tr>\n",
       "      <th>26</th>\n",
       "      <td>Afghanistan</td>\n",
       "      <td>Zimbabwe</td>\n",
       "      <td>Afghanistan</td>\n",
       "      <td>runs</td>\n",
       "      <td>Sharjah</td>\n",
       "      <td>2018-02-09</td>\n",
       "      <td>ODI # 3972</td>\n",
       "      <td>0</td>\n",
       "      <td>154</td>\n",
       "      <td>U.A.E.</td>\n",
       "      <td>Other</td>\n",
       "      <td>Feb</td>\n",
       "      <td>Zimbabwe</td>\n",
       "    </tr>\n",
       "    <tr>\n",
       "      <th>29</th>\n",
       "      <td>Afghanistan</td>\n",
       "      <td>Zimbabwe</td>\n",
       "      <td>Afghanistan</td>\n",
       "      <td>wickets</td>\n",
       "      <td>Sharjah</td>\n",
       "      <td>2018-02-13</td>\n",
       "      <td>ODI # 3975</td>\n",
       "      <td>6</td>\n",
       "      <td>0</td>\n",
       "      <td>U.A.E.</td>\n",
       "      <td>Other</td>\n",
       "      <td>Feb</td>\n",
       "      <td>Zimbabwe</td>\n",
       "    </tr>\n",
       "    <tr>\n",
       "      <th>31</th>\n",
       "      <td>Afghanistan</td>\n",
       "      <td>Zimbabwe</td>\n",
       "      <td>Afghanistan</td>\n",
       "      <td>wickets</td>\n",
       "      <td>Sharjah</td>\n",
       "      <td>2018-02-16</td>\n",
       "      <td>ODI # 3977</td>\n",
       "      <td>10</td>\n",
       "      <td>0</td>\n",
       "      <td>U.A.E.</td>\n",
       "      <td>Other</td>\n",
       "      <td>Feb</td>\n",
       "      <td>Zimbabwe</td>\n",
       "    </tr>\n",
       "    <tr>\n",
       "      <th>33</th>\n",
       "      <td>Afghanistan</td>\n",
       "      <td>Zimbabwe</td>\n",
       "      <td>Afghanistan</td>\n",
       "      <td>runs</td>\n",
       "      <td>Sharjah</td>\n",
       "      <td>2018-02-19</td>\n",
       "      <td>ODI # 3979</td>\n",
       "      <td>0</td>\n",
       "      <td>146</td>\n",
       "      <td>U.A.E.</td>\n",
       "      <td>Other</td>\n",
       "      <td>Feb</td>\n",
       "      <td>Zimbabwe</td>\n",
       "    </tr>\n",
       "    <tr>\n",
       "      <th>50</th>\n",
       "      <td>Zimbabwe</td>\n",
       "      <td>Scotland</td>\n",
       "      <td>tied</td>\n",
       "      <td>nan</td>\n",
       "      <td>Bulawayo</td>\n",
       "      <td>2018-03-12</td>\n",
       "      <td>ODI # 3996</td>\n",
       "      <td>0</td>\n",
       "      <td>0</td>\n",
       "      <td>Zimbabwe</td>\n",
       "      <td>Zimbabwe</td>\n",
       "      <td>Mar</td>\n",
       "      <td>Zimbabwe</td>\n",
       "    </tr>\n",
       "    <tr>\n",
       "      <th>56</th>\n",
       "      <td>Zimbabwe</td>\n",
       "      <td>West Indies</td>\n",
       "      <td>West Indies</td>\n",
       "      <td>wickets</td>\n",
       "      <td>Harare</td>\n",
       "      <td>2018-03-19</td>\n",
       "      <td>ODI # 4002</td>\n",
       "      <td>4</td>\n",
       "      <td>0</td>\n",
       "      <td>Zimbabwe</td>\n",
       "      <td>Zimbabwe</td>\n",
       "      <td>Mar</td>\n",
       "      <td>Zimbabwe</td>\n",
       "    </tr>\n",
       "    <tr>\n",
       "      <th>59</th>\n",
       "      <td>Zimbabwe</td>\n",
       "      <td>U.A.E.</td>\n",
       "      <td>U.A.E.</td>\n",
       "      <td>runs</td>\n",
       "      <td>Harare</td>\n",
       "      <td>2018-03-22</td>\n",
       "      <td>ODI # 4005</td>\n",
       "      <td>0</td>\n",
       "      <td>3</td>\n",
       "      <td>Zimbabwe</td>\n",
       "      <td>Zimbabwe</td>\n",
       "      <td>Mar</td>\n",
       "      <td>Zimbabwe</td>\n",
       "    </tr>\n",
       "    <tr>\n",
       "      <th>69</th>\n",
       "      <td>Zimbabwe</td>\n",
       "      <td>Pakistan</td>\n",
       "      <td>Pakistan</td>\n",
       "      <td>runs</td>\n",
       "      <td>Bulawayo</td>\n",
       "      <td>2018-07-13</td>\n",
       "      <td>ODI # 4015</td>\n",
       "      <td>0</td>\n",
       "      <td>201</td>\n",
       "      <td>Zimbabwe</td>\n",
       "      <td>Zimbabwe</td>\n",
       "      <td>Jul</td>\n",
       "      <td>Zimbabwe</td>\n",
       "    </tr>\n",
       "    <tr>\n",
       "      <th>71</th>\n",
       "      <td>Zimbabwe</td>\n",
       "      <td>Pakistan</td>\n",
       "      <td>Pakistan</td>\n",
       "      <td>wickets</td>\n",
       "      <td>Bulawayo</td>\n",
       "      <td>2018-07-16</td>\n",
       "      <td>ODI # 4017</td>\n",
       "      <td>9</td>\n",
       "      <td>0</td>\n",
       "      <td>Zimbabwe</td>\n",
       "      <td>Zimbabwe</td>\n",
       "      <td>Jul</td>\n",
       "      <td>Zimbabwe</td>\n",
       "    </tr>\n",
       "    <tr>\n",
       "      <th>73</th>\n",
       "      <td>Zimbabwe</td>\n",
       "      <td>Pakistan</td>\n",
       "      <td>Pakistan</td>\n",
       "      <td>wickets</td>\n",
       "      <td>Bulawayo</td>\n",
       "      <td>2018-07-18</td>\n",
       "      <td>ODI # 4019</td>\n",
       "      <td>9</td>\n",
       "      <td>0</td>\n",
       "      <td>Zimbabwe</td>\n",
       "      <td>Zimbabwe</td>\n",
       "      <td>Jul</td>\n",
       "      <td>Zimbabwe</td>\n",
       "    </tr>\n",
       "    <tr>\n",
       "      <th>74</th>\n",
       "      <td>Zimbabwe</td>\n",
       "      <td>Pakistan</td>\n",
       "      <td>Pakistan</td>\n",
       "      <td>runs</td>\n",
       "      <td>Bulawayo</td>\n",
       "      <td>2018-07-20</td>\n",
       "      <td>ODI # 4020</td>\n",
       "      <td>0</td>\n",
       "      <td>244</td>\n",
       "      <td>Zimbabwe</td>\n",
       "      <td>Zimbabwe</td>\n",
       "      <td>Jul</td>\n",
       "      <td>Zimbabwe</td>\n",
       "    </tr>\n",
       "    <tr>\n",
       "      <th>75</th>\n",
       "      <td>Zimbabwe</td>\n",
       "      <td>Pakistan</td>\n",
       "      <td>Pakistan</td>\n",
       "      <td>runs</td>\n",
       "      <td>Bulawayo</td>\n",
       "      <td>2018-07-22</td>\n",
       "      <td>ODI # 4021</td>\n",
       "      <td>0</td>\n",
       "      <td>131</td>\n",
       "      <td>Zimbabwe</td>\n",
       "      <td>Zimbabwe</td>\n",
       "      <td>Jul</td>\n",
       "      <td>Zimbabwe</td>\n",
       "    </tr>\n",
       "    <tr>\n",
       "      <th>103</th>\n",
       "      <td>South Africa</td>\n",
       "      <td>Zimbabwe</td>\n",
       "      <td>South Africa</td>\n",
       "      <td>wickets</td>\n",
       "      <td>Kimberley</td>\n",
       "      <td>2018-09-30</td>\n",
       "      <td>ODI # 4049</td>\n",
       "      <td>5</td>\n",
       "      <td>0</td>\n",
       "      <td>South Africa</td>\n",
       "      <td>South Africa</td>\n",
       "      <td>Sep</td>\n",
       "      <td>Zimbabwe</td>\n",
       "    </tr>\n",
       "    <tr>\n",
       "      <th>104</th>\n",
       "      <td>South Africa</td>\n",
       "      <td>Zimbabwe</td>\n",
       "      <td>South Africa</td>\n",
       "      <td>runs</td>\n",
       "      <td>Bloemfontein</td>\n",
       "      <td>2018-10-03</td>\n",
       "      <td>ODI # 4050</td>\n",
       "      <td>0</td>\n",
       "      <td>120</td>\n",
       "      <td>South Africa</td>\n",
       "      <td>South Africa</td>\n",
       "      <td>Oct</td>\n",
       "      <td>Zimbabwe</td>\n",
       "    </tr>\n",
       "    <tr>\n",
       "      <th>105</th>\n",
       "      <td>South Africa</td>\n",
       "      <td>Zimbabwe</td>\n",
       "      <td>South Africa</td>\n",
       "      <td>wickets</td>\n",
       "      <td>Paarl</td>\n",
       "      <td>2018-10-06</td>\n",
       "      <td>ODI # 4051</td>\n",
       "      <td>4</td>\n",
       "      <td>0</td>\n",
       "      <td>South Africa</td>\n",
       "      <td>South Africa</td>\n",
       "      <td>Oct</td>\n",
       "      <td>Zimbabwe</td>\n",
       "    </tr>\n",
       "    <tr>\n",
       "      <th>111</th>\n",
       "      <td>Bangladesh</td>\n",
       "      <td>Zimbabwe</td>\n",
       "      <td>Bangladesh</td>\n",
       "      <td>runs</td>\n",
       "      <td>Dhaka</td>\n",
       "      <td>2018-10-21</td>\n",
       "      <td>ODI # 4057</td>\n",
       "      <td>0</td>\n",
       "      <td>28</td>\n",
       "      <td>Bangladesh</td>\n",
       "      <td>Bangladesh</td>\n",
       "      <td>Oct</td>\n",
       "      <td>Zimbabwe</td>\n",
       "    </tr>\n",
       "    <tr>\n",
       "      <th>114</th>\n",
       "      <td>Bangladesh</td>\n",
       "      <td>Zimbabwe</td>\n",
       "      <td>Bangladesh</td>\n",
       "      <td>wickets</td>\n",
       "      <td>Chattogram</td>\n",
       "      <td>2018-10-24</td>\n",
       "      <td>ODI # 4060</td>\n",
       "      <td>7</td>\n",
       "      <td>0</td>\n",
       "      <td>Bangladesh</td>\n",
       "      <td>Bangladesh</td>\n",
       "      <td>Oct</td>\n",
       "      <td>Zimbabwe</td>\n",
       "    </tr>\n",
       "    <tr>\n",
       "      <th>115</th>\n",
       "      <td>Bangladesh</td>\n",
       "      <td>Zimbabwe</td>\n",
       "      <td>Bangladesh</td>\n",
       "      <td>wickets</td>\n",
       "      <td>Chattogram</td>\n",
       "      <td>2018-10-26</td>\n",
       "      <td>ODI # 4061</td>\n",
       "      <td>7</td>\n",
       "      <td>0</td>\n",
       "      <td>Bangladesh</td>\n",
       "      <td>Bangladesh</td>\n",
       "      <td>Oct</td>\n",
       "      <td>Zimbabwe</td>\n",
       "    </tr>\n",
       "  </tbody>\n",
       "</table>\n",
       "</div>"
      ],
      "text/plain": [
       "           Team 1       Team 2        Winner   Margin        Ground  \\\n",
       "6      Bangladesh     Zimbabwe    Bangladesh  wickets         Dhaka   \n",
       "16      Sri Lanka     Zimbabwe     Sri Lanka  wickets         Dhaka   \n",
       "18     Bangladesh     Zimbabwe    Bangladesh     runs         Dhaka   \n",
       "26    Afghanistan     Zimbabwe   Afghanistan     runs       Sharjah   \n",
       "29    Afghanistan     Zimbabwe   Afghanistan  wickets       Sharjah   \n",
       "31    Afghanistan     Zimbabwe   Afghanistan  wickets       Sharjah   \n",
       "33    Afghanistan     Zimbabwe   Afghanistan     runs       Sharjah   \n",
       "50       Zimbabwe     Scotland          tied      nan      Bulawayo   \n",
       "56       Zimbabwe  West Indies   West Indies  wickets        Harare   \n",
       "59       Zimbabwe       U.A.E.        U.A.E.     runs        Harare   \n",
       "69       Zimbabwe     Pakistan      Pakistan     runs      Bulawayo   \n",
       "71       Zimbabwe     Pakistan      Pakistan  wickets      Bulawayo   \n",
       "73       Zimbabwe     Pakistan      Pakistan  wickets      Bulawayo   \n",
       "74       Zimbabwe     Pakistan      Pakistan     runs      Bulawayo   \n",
       "75       Zimbabwe     Pakistan      Pakistan     runs      Bulawayo   \n",
       "103  South Africa     Zimbabwe  South Africa  wickets     Kimberley   \n",
       "104  South Africa     Zimbabwe  South Africa     runs  Bloemfontein   \n",
       "105  South Africa     Zimbabwe  South Africa  wickets         Paarl   \n",
       "111    Bangladesh     Zimbabwe    Bangladesh     runs         Dhaka   \n",
       "114    Bangladesh     Zimbabwe    Bangladesh  wickets    Chattogram   \n",
       "115    Bangladesh     Zimbabwe    Bangladesh  wickets    Chattogram   \n",
       "\n",
       "    Match Date   Scorecard Wickets  Runs   Home Ground     Home Team Month  \\\n",
       "6   2018-01-15  ODI # 3952       8     0    Bangladesh    Bangladesh   Jan   \n",
       "16  2018-01-21  ODI # 3962       5     0    Bangladesh         Other   Jan   \n",
       "18  2018-01-23  ODI # 3964       0    91    Bangladesh    Bangladesh   Jan   \n",
       "26  2018-02-09  ODI # 3972       0   154        U.A.E.         Other   Feb   \n",
       "29  2018-02-13  ODI # 3975       6     0        U.A.E.         Other   Feb   \n",
       "31  2018-02-16  ODI # 3977      10     0        U.A.E.         Other   Feb   \n",
       "33  2018-02-19  ODI # 3979       0   146        U.A.E.         Other   Feb   \n",
       "50  2018-03-12  ODI # 3996       0     0      Zimbabwe      Zimbabwe   Mar   \n",
       "56  2018-03-19  ODI # 4002       4     0      Zimbabwe      Zimbabwe   Mar   \n",
       "59  2018-03-22  ODI # 4005       0     3      Zimbabwe      Zimbabwe   Mar   \n",
       "69  2018-07-13  ODI # 4015       0   201      Zimbabwe      Zimbabwe   Jul   \n",
       "71  2018-07-16  ODI # 4017       9     0      Zimbabwe      Zimbabwe   Jul   \n",
       "73  2018-07-18  ODI # 4019       9     0      Zimbabwe      Zimbabwe   Jul   \n",
       "74  2018-07-20  ODI # 4020       0   244      Zimbabwe      Zimbabwe   Jul   \n",
       "75  2018-07-22  ODI # 4021       0   131      Zimbabwe      Zimbabwe   Jul   \n",
       "103 2018-09-30  ODI # 4049       5     0  South Africa  South Africa   Sep   \n",
       "104 2018-10-03  ODI # 4050       0   120  South Africa  South Africa   Oct   \n",
       "105 2018-10-06  ODI # 4051       4     0  South Africa  South Africa   Oct   \n",
       "111 2018-10-21  ODI # 4057       0    28    Bangladesh    Bangladesh   Oct   \n",
       "114 2018-10-24  ODI # 4060       7     0    Bangladesh    Bangladesh   Oct   \n",
       "115 2018-10-26  ODI # 4061       7     0    Bangladesh    Bangladesh   Oct   \n",
       "\n",
       "        Loser  \n",
       "6    Zimbabwe  \n",
       "16   Zimbabwe  \n",
       "18   Zimbabwe  \n",
       "26   Zimbabwe  \n",
       "29   Zimbabwe  \n",
       "31   Zimbabwe  \n",
       "33   Zimbabwe  \n",
       "50   Zimbabwe  \n",
       "56   Zimbabwe  \n",
       "59   Zimbabwe  \n",
       "69   Zimbabwe  \n",
       "71   Zimbabwe  \n",
       "73   Zimbabwe  \n",
       "74   Zimbabwe  \n",
       "75   Zimbabwe  \n",
       "103  Zimbabwe  \n",
       "104  Zimbabwe  \n",
       "105  Zimbabwe  \n",
       "111  Zimbabwe  \n",
       "114  Zimbabwe  \n",
       "115  Zimbabwe  "
      ]
     },
     "execution_count": 456,
     "metadata": {},
     "output_type": "execute_result"
    }
   ],
   "source": [
    "Zimbabwe_losses"
   ]
  },
  {
   "cell_type": "code",
   "execution_count": 462,
   "metadata": {},
   "outputs": [
    {
     "data": {
      "text/plain": [
       "(array([0, 1, 2]), <a list of 3 Text xticklabel objects>)"
      ]
     },
     "execution_count": 462,
     "metadata": {},
     "output_type": "execute_result"
    },
    {
     "data": {
      "image/png": "[encoded data removed]",
      "text/plain": [
       "<Figure size 432x288 with 1 Axes>"
      ]
     },
     "metadata": {
      "needs_background": "light"
     },
     "output_type": "display_data"
    }
   ],
   "source": [
    "Zimbabwe_losses['Margin'].value_counts().plot.bar()\n",
    "plt.title('Zimbabwe Performance Summary',fontsize=15)\n",
    "plt.xticks(rotation=0)"
   ]
  },
  {
   "cell_type": "code",
   "execution_count": null,
   "metadata": {},
   "outputs": [],
   "source": []
  }
 ],
 "metadata": {
  "kernelspec": {
   "display_name": "Python 3",
   "language": "python",
   "name": "python3"
  },
  "language_info": {
   "codemirror_mode": {
    "name": "ipython",
    "version": 3
   },
   "file_extension": ".py",
   "mimetype": "text/x-python",
   "name": "python",
   "nbconvert_exporter": "python",
   "pygments_lexer": "ipython3",
   "version": "3.7.6"
  }
 },
 "nbformat": 4,
 "nbformat_minor": 4
}
